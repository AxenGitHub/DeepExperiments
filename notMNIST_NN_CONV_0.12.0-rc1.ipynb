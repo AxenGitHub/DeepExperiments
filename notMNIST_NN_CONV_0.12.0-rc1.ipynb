{
 "cells": [
  {
   "cell_type": "markdown",
   "metadata": {},
   "source": [
    "# Fully Connected Naural Networks + Convolutions\n",
    "Previously we trained fully connected networks to classify notMNIST characters.\n",
    "Let's make the neural network convolutional."
   ]
  },
  {
   "cell_type": "markdown",
   "metadata": {},
   "source": [
    "## Suggested Reading \n",
    "[A guide to convolution arithmetic for deep learning](https://arxiv.org/pdf/1603.07285v1.pdf)\n",
    "<table style=\"width:100%\">\n",
    "  <tr>\n",
    "    <td><img src=\"gif/no_padding_no_strides.gif\"></td>\n",
    "    <td><img src=\"gif/arbitrary_padding_no_strides.gif\"></td>\n",
    "    <td><img src=\"gif/same_padding_no_strides.gif\"></td>\n",
    "    <td><img src=\"gif/full_padding_no_strides.gif\"></td>\n",
    "  </tr>\n",
    "  <tr>\n",
    "    <td>No padding, no strides</td>\n",
    "    <td>Arbitrary padding, no strides</td>\n",
    "    <td>Half padding, no strides</td>\n",
    "    <td>Full padding, no strides</td>\n",
    "  </tr>\n",
    "  <tr>\n",
    "    <td><img src=\"gif/no_padding_no_strides_transposed.gif\"></td>\n",
    "    <td><img src=\"gif/arbitrary_padding_no_strides_transposed.gif\"></td>\n",
    "    <td><img src=\"gif/same_padding_no_strides_transposed.gif\"></td>\n",
    "    <td><img src=\"gif/full_padding_no_strides_transposed.gif\"></td>\n",
    "  </tr>\n",
    "  <tr>\n",
    "    <td>No padding, no strides, transposed</td>\n",
    "    <td>Arbitrary padding, no strides, transposed</td>\n",
    "    <td>Half padding, no strides, transposed</td>\n",
    "    <td>Full padding, no strides, transposed</td>\n",
    "  </tr>\n",
    "  <tr>\n",
    "    <td><img src=\"gif/no_padding_strides.gif\"></td>\n",
    "    <td><img src=\"gif/padding_strides.gif\"></td>\n",
    "    <td><img src=\"gif/padding_strides_odd.gif\"></td>\n",
    "    <td></td>\n",
    "  </tr>\n",
    "  <tr>\n",
    "    <td>No padding, strides</td>\n",
    "    <td>Padding, strides</td>\n",
    "    <td>Padding, strides (odd)</td>\n",
    "    <td></td>\n",
    "  </tr>\n",
    "  <tr>\n",
    "    <td><img src=\"gif/no_padding_strides_transposed.gif\"></td>\n",
    "    <td><img src=\"gif/padding_strides_transposed.gif\"></td>\n",
    "    <td><img src=\"gif/padding_strides_odd_transposed.gif\"></td>\n",
    "    <td></td>\n",
    "  </tr>\n",
    "  <tr>\n",
    "    <td>No padding, strides, transposed</td>\n",
    "    <td>Padding, strides, transposed</td>\n",
    "    <td>Padding, strides, transposed (odd)</td>\n",
    "    <td></td>\n",
    "  </tr>\n",
    "  <tr>\n",
    "    <td><img src=\"gif/dilation.gif\"></td>\n",
    "    <td></td>\n",
    "    <td></td>\n",
    "    <td></td>\n",
    "  </tr>\n",
    "  <tr>\n",
    "    <td>No padding, no stride, dilation</td>\n",
    "    <td></td>\n",
    "    <td></td>\n",
    "    <td></td>\n",
    "  </tr>\n",
    "</table>"
   ]
  },
  {
   "cell_type": "markdown",
   "metadata": {},
   "source": [
    "## Preliminaries"
   ]
  },
  {
   "cell_type": "code",
   "execution_count": 3,
   "metadata": {
    "collapsed": true
   },
   "outputs": [],
   "source": [
    "# These are all the modules we'll be using later. Make sure you can import them\n",
    "# before proceeding further.\n",
    "from __future__ import print_function\n",
    "import numpy as np\n",
    "import tensorflow as tf\n",
    "from six.moves import cPickle as pickle\n",
    "from six.moves import range"
   ]
  },
  {
   "cell_type": "code",
   "execution_count": 4,
   "metadata": {
    "collapsed": false
   },
   "outputs": [
    {
     "name": "stdout",
     "output_type": "stream",
     "text": [
      "Training set (200000, 28, 28) (200000,)\n",
      "Validation set (10000, 28, 28) (10000,)\n",
      "Test set (10000, 28, 28) (10000,)\n"
     ]
    }
   ],
   "source": [
    "pickle_file = 'notMNIST.pickle'\n",
    "\n",
    "with open(pickle_file, 'rb') as f:\n",
    "  save = pickle.load(f)\n",
    "  train_dataset = save['train_dataset']\n",
    "  train_labels = save['train_labels']\n",
    "  valid_dataset = save['valid_dataset']\n",
    "  valid_labels = save['valid_labels']\n",
    "  test_dataset = save['test_dataset']\n",
    "  test_labels = save['test_labels']\n",
    "  del save  # hint to help gc free up memory\n",
    "  print('Training set', train_dataset.shape, train_labels.shape)\n",
    "  print('Validation set', valid_dataset.shape, valid_labels.shape)\n",
    "  print('Test set', test_dataset.shape, test_labels.shape)"
   ]
  },
  {
   "cell_type": "markdown",
   "metadata": {},
   "source": [
    "Reformat into a TensorFlow-friendly shape:\n",
    "* convolutions need the image data formatted as a cube (width by height by #channels)\n",
    "* labels as float 1-hot encodings."
   ]
  },
  {
   "cell_type": "code",
   "execution_count": 5,
   "metadata": {
    "collapsed": false
   },
   "outputs": [
    {
     "name": "stdout",
     "output_type": "stream",
     "text": [
      "Training set (200000, 28, 28, 1) (200000, 10)\n",
      "Validation set (10000, 28, 28, 1) (10000, 10)\n",
      "Test set (10000, 28, 28, 1) (10000, 10)\n"
     ]
    }
   ],
   "source": [
    "image_size = 28\n",
    "num_labels = 10\n",
    "num_channels = 1 # grayscale\n",
    "\n",
    "import numpy as np\n",
    "\n",
    "def reformat(dataset, labels):\n",
    "  dataset = dataset.reshape(\n",
    "    (-1, image_size, image_size, num_channels)).astype(np.float32)\n",
    "  labels = (np.arange(num_labels) == labels[:,None]).astype(np.float32)\n",
    "  return dataset, labels\n",
    "train_dataset, train_labels = reformat(train_dataset, train_labels)\n",
    "valid_dataset, valid_labels = reformat(valid_dataset, valid_labels)\n",
    "test_dataset, test_labels = reformat(test_dataset, test_labels)\n",
    "print('Training set', train_dataset.shape, train_labels.shape)\n",
    "print('Validation set', valid_dataset.shape, valid_labels.shape)\n",
    "print('Test set', test_dataset.shape, test_labels.shape)"
   ]
  },
  {
   "cell_type": "code",
   "execution_count": 6,
   "metadata": {
    "collapsed": true
   },
   "outputs": [],
   "source": [
    "def accuracy(predictions, labels):\n",
    "  return (100.0 * np.sum(np.argmax(predictions, 1) == np.argmax(labels, 1))\n",
    "          / predictions.shape[0])"
   ]
  },
  {
   "cell_type": "markdown",
   "metadata": {},
   "source": [
    "### Relationship between input size, zero padding, strides and kernel size \n",
    "Let's consider \n",
    "*  2-D discrete convolutions (N = 2),\n",
    "*  square inputs (i1 = i2 = i),\n",
    "*  square kernel size (k1 = k2 = k),\n",
    "*  same strides along both axes (s1 = s2 = s),\n",
    "*  same zero padding along both axes (p1 = p2 = p)\n",
    "\n",
    "__Convolution arithmetic__\n",
    "For any $i$, $k$, $p$ and $s$, \n",
    "\n",
    "$$o =\\lfloor{\\frac{i+2p-k}{s}}\\rfloor+1$$\n",
    "\n",
    "__Pooling arithmetic__\n",
    "For any $i$, $k$, $p$\n",
    "\n",
    "$$o =\\lfloor{\\frac{i-k}{s}}\\rfloor+1$$\n",
    "\n",
    "See __Suggested Reading__ for further details. "
   ]
  },
  {
   "cell_type": "code",
   "execution_count": 11,
   "metadata": {
    "collapsed": false
   },
   "outputs": [],
   "source": [
    "import math \n",
    "\n",
    "def out_conv(i,p,k,s):\n",
    "    assert s > 0 \n",
    "    return math.floor((i+2*p-k)/s)+1\n",
    "\n",
    "def out_pool(i,k,s):\n",
    "    return out_conv(i,0,k,s)"
   ]
  },
  {
   "cell_type": "code",
   "execution_count": 13,
   "metadata": {
    "collapsed": false
   },
   "outputs": [
    {
     "data": {
      "text/plain": [
       "26"
      ]
     },
     "execution_count": 13,
     "metadata": {},
     "output_type": "execute_result"
    }
   ],
   "source": [
    "### VALID padding - unit stride  \n",
    "out_conv(28,0,3,1)"
   ]
  },
  {
   "cell_type": "code",
   "execution_count": 14,
   "metadata": {
    "collapsed": false
   },
   "outputs": [
    {
     "data": {
      "text/plain": [
       "28"
      ]
     },
     "execution_count": 14,
     "metadata": {},
     "output_type": "execute_result"
    }
   ],
   "source": [
    "### SAME padding - unit stride \n",
    "out_conv(28,1,3,1)"
   ]
  },
  {
   "cell_type": "code",
   "execution_count": 15,
   "metadata": {
    "collapsed": false
   },
   "outputs": [
    {
     "data": {
      "text/plain": [
       "13"
      ]
     },
     "execution_count": 15,
     "metadata": {},
     "output_type": "execute_result"
    }
   ],
   "source": [
    "### VALID padding - double stride \n",
    "out_conv(28,0,3,2)"
   ]
  },
  {
   "cell_type": "markdown",
   "metadata": {},
   "source": [
    "## Network with two convolutional layers followed by one fully connected layer"
   ]
  },
  {
   "cell_type": "markdown",
   "metadata": {},
   "source": [
    "Let's build a small network with two convolutional layers, followed by one fully connected layer. Convolutional networks are more expensive computationally, so we'll limit its depth and number of fully connected nodes."
   ]
  },
  {
   "cell_type": "code",
   "execution_count": 59,
   "metadata": {
    "collapsed": true
   },
   "outputs": [],
   "source": [
    "#batch_size = 16\n",
    "batch_size = 128\n",
    "patch_size = 5\n",
    "depth = 16\n",
    "num_hidden = 128"
   ]
  },
  {
   "cell_type": "code",
   "execution_count": 60,
   "metadata": {
    "collapsed": false
   },
   "outputs": [
    {
     "data": {
      "text/plain": [
       "14"
      ]
     },
     "execution_count": 60,
     "metadata": {},
     "output_type": "execute_result"
    }
   ],
   "source": [
    "### First Convolutional layer: SAME padding - 2 stride \n",
    "out_conv(28,2,patch_size,2)"
   ]
  },
  {
   "cell_type": "code",
   "execution_count": 61,
   "metadata": {
    "collapsed": false
   },
   "outputs": [
    {
     "data": {
      "text/plain": [
       "7"
      ]
     },
     "execution_count": 61,
     "metadata": {},
     "output_type": "execute_result"
    }
   ],
   "source": [
    "### Second Convolutional layer: SAME padding - 2 stride \n",
    "out_conv(14,2,patch_size,2)"
   ]
  },
  {
   "cell_type": "code",
   "execution_count": 62,
   "metadata": {
    "collapsed": false
   },
   "outputs": [
    {
     "data": {
      "text/plain": [
       "784"
      ]
     },
     "execution_count": 62,
     "metadata": {},
     "output_type": "execute_result"
    }
   ],
   "source": [
    "### Reshape - as in code \n",
    "image_size // 4 * image_size // 4 * depth"
   ]
  },
  {
   "cell_type": "code",
   "execution_count": 63,
   "metadata": {
    "collapsed": false
   },
   "outputs": [
    {
     "data": {
      "text/plain": [
       "784"
      ]
     },
     "execution_count": 63,
     "metadata": {},
     "output_type": "execute_result"
    }
   ],
   "source": [
    "### Reshape - as per previous considerations \n",
    "7*7*depth"
   ]
  },
  {
   "cell_type": "code",
   "execution_count": 64,
   "metadata": {
    "collapsed": false
   },
   "outputs": [
    {
     "name": "stdout",
     "output_type": "stream",
     "text": [
      "\n",
      ">>> data:[128, 28, 28, 1]\n",
      "conv1:[128, 14, 14, 16]\n",
      "hidden1:[128, 14, 14, 16]\n",
      "conv2:[128, 7, 7, 16]\n",
      "hidden2:[128, 7, 7, 16]\n",
      "hidden3:[128, 128]\n",
      "out:[128, 10]\n",
      "\n",
      ">>> data:[10000, 28, 28, 1]\n",
      "conv1:[10000, 14, 14, 16]\n",
      "hidden1:[10000, 14, 14, 16]\n",
      "conv2:[10000, 7, 7, 16]\n",
      "hidden2:[10000, 7, 7, 16]\n",
      "hidden3:[10000, 128]\n",
      "out:[10000, 10]\n",
      "\n",
      ">>> data:[10000, 28, 28, 1]\n",
      "conv1:[10000, 14, 14, 16]\n",
      "hidden1:[10000, 14, 14, 16]\n",
      "conv2:[10000, 7, 7, 16]\n",
      "hidden2:[10000, 7, 7, 16]\n",
      "hidden3:[10000, 128]\n",
      "out:[10000, 10]\n"
     ]
    }
   ],
   "source": [
    "graph = tf.Graph()\n",
    "\n",
    "with graph.as_default():\n",
    "\n",
    "  # Input data.\n",
    "  tf_train_dataset = tf.placeholder(tf.float32, shape=(batch_size, image_size, image_size, num_channels))\n",
    "  tf_train_labels = tf.placeholder(tf.float32, shape=(batch_size, num_labels))\n",
    "\n",
    "  tf_valid_dataset = tf.constant(valid_dataset)\n",
    "  tf_test_dataset = tf.constant(test_dataset)\n",
    "  \n",
    "  # Variables.\n",
    "  layer1_weights = tf.Variable(tf.truncated_normal([patch_size, patch_size, num_channels, depth], stddev=0.1))\n",
    "  layer1_biases = tf.Variable(tf.zeros([depth]))\n",
    "\n",
    "  layer2_weights = tf.Variable(tf.truncated_normal([patch_size, patch_size, depth, depth], stddev=0.1))\n",
    "  layer2_biases = tf.Variable(tf.constant(1.0, shape=[depth]))\n",
    "\n",
    "  layer3_weights = tf.Variable(tf.truncated_normal([image_size // 4 * image_size // 4 * depth, num_hidden], stddev=0.1))\n",
    "  layer3_biases = tf.Variable(tf.constant(1.0, shape=[num_hidden]))\n",
    "\n",
    "  layer4_weights = tf.Variable(tf.truncated_normal([num_hidden, num_labels], stddev=0.1))\n",
    "  layer4_biases = tf.Variable(tf.constant(1.0, shape=[num_labels]))\n",
    "  \n",
    "  # Model.\n",
    "  def model(data):\n",
    "    print(\"\\n>>> data:\"+str(data.get_shape().as_list()))\n",
    "    \n",
    "    conv = tf.nn.conv2d(data, layer1_weights, [1, 2, 2, 1], padding='SAME')\n",
    "    print(\"conv1:\"+str(conv.get_shape().as_list()))\n",
    "    hidden = tf.nn.relu(conv + layer1_biases)\n",
    "    print(\"hidden1:\"+str(hidden.get_shape().as_list()))\n",
    "    \n",
    "    conv = tf.nn.conv2d(hidden, layer2_weights, [1, 2, 2, 1], padding='SAME')\n",
    "    print(\"conv2:\"+str(conv.get_shape().as_list()))\n",
    "    hidden = tf.nn.relu(conv + layer2_biases)\n",
    "    print(\"hidden2:\"+str(hidden.get_shape().as_list()))\n",
    "    \n",
    "    shape = hidden.get_shape().as_list()\n",
    "    reshape = tf.reshape(hidden, [shape[0], shape[1] * shape[2] * shape[3]])\n",
    "    hidden = tf.nn.relu(tf.matmul(reshape, layer3_weights) + layer3_biases)\n",
    "    print(\"hidden3:\"+str(hidden.get_shape().as_list()))\n",
    "    \n",
    "    out = tf.matmul(hidden, layer4_weights) + layer4_biases\n",
    "    print(\"out:\"+str(out.get_shape().as_list()))\n",
    "    return out\n",
    "  \n",
    "  # Training computation.\n",
    "  logits = model(tf_train_dataset)\n",
    "  loss = tf.reduce_mean(tf.nn.softmax_cross_entropy_with_logits(logits, tf_train_labels))\n",
    "    \n",
    "  # Optimizer.\n",
    "  #optimizer = tf.train.GradientDescentOptimizer(0.05).minimize(loss)\n",
    "  global_step = tf.Variable(0)  # count the number of steps taken.\n",
    "  learning_rate = tf.train.exponential_decay(0.05, global_step, 100000, 0.96, staircase=True)\n",
    "  optimizer = tf.train.GradientDescentOptimizer(learning_rate).minimize(loss, global_step=global_step)\n",
    "  \n",
    "  # Predictions for the training, validation, and test data.\n",
    "  train_prediction = tf.nn.softmax(logits)\n",
    "  valid_prediction = tf.nn.softmax(model(tf_valid_dataset))\n",
    "  test_prediction = tf.nn.softmax(model(tf_test_dataset))"
   ]
  },
  {
   "cell_type": "code",
   "execution_count": 65,
   "metadata": {
    "collapsed": false
   },
   "outputs": [
    {
     "name": "stdout",
     "output_type": "stream",
     "text": [
      "Initialized\n",
      "\n",
      "Minibatch loss at step 0: 4.356413\n",
      "Minibatch accuracy: 10.9%\n",
      "Validation accuracy: 10.0%\n",
      "Test accuracy: 10.0%\n",
      "\n",
      "Minibatch loss at step 500: 0.454277\n",
      "Minibatch accuracy: 86.7%\n",
      "Validation accuracy: 83.0%\n",
      "Test accuracy: 89.8%\n",
      "\n",
      "Minibatch loss at step 1000: 0.595456\n",
      "Minibatch accuracy: 80.5%\n",
      "Validation accuracy: 84.9%\n",
      "Test accuracy: 91.4%\n",
      "\n",
      "Minibatch loss at step 1500: 0.328296\n",
      "Minibatch accuracy: 90.6%\n",
      "Validation accuracy: 85.7%\n",
      "Test accuracy: 92.2%\n",
      "\n",
      "Minibatch loss at step 2000: 0.327264\n",
      "Minibatch accuracy: 90.6%\n",
      "Validation accuracy: 86.7%\n",
      "Test accuracy: 93.0%\n",
      "\n",
      "Minibatch loss at step 2500: 0.394724\n",
      "Minibatch accuracy: 86.7%\n",
      "Validation accuracy: 87.3%\n",
      "Test accuracy: 93.4%\n",
      "\n",
      "Minibatch loss at step 3000: 0.401665\n",
      "Minibatch accuracy: 87.5%\n",
      "Validation accuracy: 87.2%\n",
      "Test accuracy: 93.3%\n"
     ]
    }
   ],
   "source": [
    "num_steps = 3001\n",
    "\n",
    "with tf.Session(graph=graph) as session:\n",
    "  tf.global_variables_initializer().run()\n",
    "  print('Initialized')\n",
    "  for step in range(num_steps):\n",
    "    offset = (step * batch_size) % (train_labels.shape[0] - batch_size)\n",
    "    \n",
    "    batch_data = train_dataset[offset:(offset + batch_size), :, :, :]\n",
    "    batch_labels = train_labels[offset:(offset + batch_size), :]\n",
    "    \n",
    "    feed_dict = {tf_train_dataset : batch_data, tf_train_labels : batch_labels}\n",
    "    _, l, predictions = session.run([optimizer, loss, train_prediction], feed_dict=feed_dict)\n",
    "    \n",
    "    if (step % 500 == 0):\n",
    "      print('\\nMinibatch loss at step %d: %f' % (step, l))\n",
    "      print('Minibatch accuracy: %.1f%%' % accuracy(predictions, batch_labels))\n",
    "      print('Validation accuracy: %.1f%%' % accuracy(valid_prediction.eval(), valid_labels))\n",
    "      print('Test accuracy: %.1f%%' % accuracy(test_prediction.eval(), test_labels))"
   ]
  },
  {
   "cell_type": "markdown",
   "metadata": {},
   "source": [
    "## Classical Convolutional Architecture\n",
    "Let's implement this:\n",
    "\n",
    "1. Image \n",
    "2. Convolution \n",
    "3. Max Pooling \n",
    "4. Convolution \n",
    "5. Max Pooling \n",
    "6. Fully Connected \n",
    "8. Classifier \n"
   ]
  },
  {
   "cell_type": "code",
   "execution_count": 78,
   "metadata": {
    "collapsed": false
   },
   "outputs": [
    {
     "name": "stdout",
     "output_type": "stream",
     "text": [
      "\n",
      ">>> data:[128, 28, 28, 1]\n",
      "conv1:[128, 28, 28, 16]\n",
      "max-pooling1:[128, 14, 14, 16]\n",
      "conv2:[128, 14, 14, 16]\n",
      "max-pooling1:[128, 7, 7, 16]\n",
      "hidden:[128, 128]\n",
      "out:[128, 10]\n",
      "\n",
      ">>> data:[10000, 28, 28, 1]\n",
      "conv1:[10000, 28, 28, 16]\n",
      "max-pooling1:[10000, 14, 14, 16]\n",
      "conv2:[10000, 14, 14, 16]\n",
      "max-pooling1:[10000, 7, 7, 16]\n",
      "hidden:[10000, 128]\n",
      "out:[10000, 10]\n",
      "\n",
      ">>> data:[10000, 28, 28, 1]\n",
      "conv1:[10000, 28, 28, 16]\n",
      "max-pooling1:[10000, 14, 14, 16]\n",
      "conv2:[10000, 14, 14, 16]\n",
      "max-pooling1:[10000, 7, 7, 16]\n",
      "hidden:[10000, 128]\n",
      "out:[10000, 10]\n"
     ]
    }
   ],
   "source": [
    "def maxpool2d(x, k=2,padding='SAME'):\n",
    "    # MaxPool2D wrapper\n",
    "    return tf.nn.max_pool(x, ksize=[1, k, k, 1], strides=[1, k, k, 1],padding=padding)\n",
    "\n",
    "def conv2d(x, W, b, strides=1,padding='SAME'):\n",
    "    # Conv2D wrapper, with bias and relu activation\n",
    "    x = tf.nn.conv2d(x, W, strides=[1, strides, strides, 1], padding=padding)\n",
    "    x = tf.nn.bias_add(x, b)\n",
    "    return tf.nn.relu(x)\n",
    "\n",
    "\n",
    "graph = tf.Graph()\n",
    "\n",
    "with graph.as_default():\n",
    "\n",
    "  # Input data.\n",
    "  tf_train_dataset = tf.placeholder(tf.float32, shape=(batch_size, image_size, image_size, num_channels))\n",
    "  tf_train_labels = tf.placeholder(tf.float32, shape=(batch_size, num_labels))\n",
    "\n",
    "  tf_valid_dataset = tf.constant(valid_dataset)\n",
    "  tf_test_dataset = tf.constant(test_dataset)\n",
    "  \n",
    "  # Convolution 1 \n",
    "  layer1_weights = tf.Variable(tf.truncated_normal([patch_size, patch_size, num_channels, depth], stddev=0.1))\n",
    "  layer1_biases = tf.Variable(tf.zeros([depth]))\n",
    "\n",
    "  layer2_weights = tf.Variable(tf.truncated_normal([patch_size, patch_size, depth, depth], stddev=0.1))\n",
    "  layer2_biases = tf.Variable(tf.constant(1.0, shape=[depth]))\n",
    "\n",
    "  layer3_weights = tf.Variable(tf.truncated_normal([image_size // 4 * image_size // 4 * depth, num_hidden], stddev=0.1))\n",
    "  layer3_biases = tf.Variable(tf.constant(1.0, shape=[num_hidden]))\n",
    "\n",
    "  layer4_weights = tf.Variable(tf.truncated_normal([num_hidden, num_labels], stddev=0.1))\n",
    "  layer4_biases = tf.Variable(tf.constant(1.0, shape=[num_labels]))\n",
    "  \n",
    "  # Model.\n",
    "  def model(data):\n",
    "    print(\"\\n>>> data:\"+str(data.get_shape().as_list()))\n",
    "    \n",
    "    conv = conv2d(data, layer1_weights , layer1_biases, strides=1,padding='SAME')\n",
    "    print(\"conv1:\"+str(conv.get_shape().as_list()))\n",
    "    mp = maxpool2d(conv, k=2)\n",
    "    print(\"max-pooling1:\"+str(mp.get_shape().as_list()))\n",
    "    \n",
    "    conv = conv2d(mp, layer2_weights , layer2_biases, strides=1,padding='SAME')\n",
    "    print(\"conv2:\"+str(conv.get_shape().as_list()))\n",
    "    mp = maxpool2d(conv, k=2)\n",
    "    print(\"max-pooling1:\"+str(mp.get_shape().as_list()))\n",
    "    \n",
    "    shape = mp.get_shape().as_list()\n",
    "    reshape = tf.reshape(mp, [shape[0], shape[1] * shape[2] * shape[3]])\n",
    "    hidden = tf.nn.relu(tf.matmul(reshape, layer3_weights) + layer3_biases)\n",
    "    print(\"hidden:\"+str(hidden.get_shape().as_list()))\n",
    "    \n",
    "    out = tf.matmul(hidden, layer4_weights) + layer4_biases\n",
    "    print(\"out:\"+str(out.get_shape().as_list()))\n",
    "    return out\n",
    "  \n",
    "  # Training computation.\n",
    "  logits = model(tf_train_dataset)\n",
    "  loss = tf.reduce_mean(tf.nn.softmax_cross_entropy_with_logits(logits, tf_train_labels))\n",
    "    \n",
    "  # Optimizer.\n",
    "  #optimizer = tf.train.GradientDescentOptimizer(0.05).minimize(loss)\n",
    "  global_step = tf.Variable(0)  # count the number of steps taken.\n",
    "  learning_rate = tf.train.exponential_decay(0.05, global_step, 100000, 0.96, staircase=True)\n",
    "  optimizer = tf.train.GradientDescentOptimizer(learning_rate).minimize(loss, global_step=global_step)\n",
    "  \n",
    "  # Predictions for the training, validation, and test data.\n",
    "  train_prediction = tf.nn.softmax(logits)\n",
    "  valid_prediction = tf.nn.softmax(model(tf_valid_dataset))\n",
    "  test_prediction = tf.nn.softmax(model(tf_test_dataset))"
   ]
  },
  {
   "cell_type": "code",
   "execution_count": 75,
   "metadata": {
    "collapsed": false
   },
   "outputs": [
    {
     "name": "stdout",
     "output_type": "stream",
     "text": [
      "Initialized\n",
      "\n",
      "Minibatch loss at step 0: 4.662801\n",
      "Minibatch accuracy: 5.5%\n",
      "Validation accuracy: 15.2%\n",
      "Test accuracy: 16.0%\n",
      "\n",
      "Minibatch loss at step 500: 0.384480\n",
      "Minibatch accuracy: 88.3%\n",
      "Validation accuracy: 84.3%\n",
      "Test accuracy: 91.1%\n",
      "\n",
      "Minibatch loss at step 1000: 0.581485\n",
      "Minibatch accuracy: 84.4%\n",
      "Validation accuracy: 85.9%\n",
      "Test accuracy: 92.5%\n",
      "\n",
      "Minibatch loss at step 1500: 0.284368\n",
      "Minibatch accuracy: 92.2%\n",
      "Validation accuracy: 87.0%\n",
      "Test accuracy: 93.6%\n",
      "\n",
      "Minibatch loss at step 2000: 0.312073\n",
      "Minibatch accuracy: 90.6%\n",
      "Validation accuracy: 87.7%\n",
      "Test accuracy: 94.2%\n",
      "\n",
      "Minibatch loss at step 2500: 0.333975\n",
      "Minibatch accuracy: 89.8%\n",
      "Validation accuracy: 88.1%\n",
      "Test accuracy: 94.3%\n",
      "\n",
      "Minibatch loss at step 3000: 0.381347\n",
      "Minibatch accuracy: 88.3%\n",
      "Validation accuracy: 88.3%\n",
      "Test accuracy: 94.6%\n"
     ]
    }
   ],
   "source": [
    "num_steps = 3001\n",
    "\n",
    "with tf.Session(graph=graph) as session:\n",
    "  tf.global_variables_initializer().run()\n",
    "  print('Initialized')\n",
    "  for step in range(num_steps):\n",
    "    offset = (step * batch_size) % (train_labels.shape[0] - batch_size)\n",
    "    \n",
    "    batch_data = train_dataset[offset:(offset + batch_size), :, :, :]\n",
    "    batch_labels = train_labels[offset:(offset + batch_size), :]\n",
    "    \n",
    "    feed_dict = {tf_train_dataset : batch_data, tf_train_labels : batch_labels}\n",
    "    _, l, predictions = session.run([optimizer, loss, train_prediction], feed_dict=feed_dict)\n",
    "    \n",
    "    if (step % 500 == 0):\n",
    "      print('\\nMinibatch loss at step %d: %f' % (step, l))\n",
    "      print('Minibatch accuracy: %.1f%%' % accuracy(predictions, batch_labels))\n",
    "      print('Validation accuracy: %.1f%%' % accuracy(valid_prediction.eval(), valid_labels))\n",
    "      print('Test accuracy: %.1f%%' % accuracy(test_prediction.eval(), test_labels))"
   ]
  },
  {
   "cell_type": "markdown",
   "metadata": {},
   "source": [
    "## Let's add one more fully connected layer at the end \n",
    "Let's implement this:\n",
    "\n",
    "1. Image \n",
    "2. Convolution \n",
    "3. Max Pooling \n",
    "4. Convolution \n",
    "5. Max Pooling \n",
    "6. Fully Connected \n",
    "7. Fully Connected \n",
    "8. Classifier "
   ]
  },
  {
   "cell_type": "code",
   "execution_count": 76,
   "metadata": {
    "collapsed": false
   },
   "outputs": [
    {
     "name": "stdout",
     "output_type": "stream",
     "text": [
      "\n",
      ">>> data:[128, 28, 28, 1]\n",
      "conv1:[128, 28, 28, 16]\n",
      "max-pooling1:[128, 14, 14, 16]\n",
      "conv2:[128, 14, 14, 16]\n",
      "max-pooling1:[128, 7, 7, 16]\n",
      "hidden:[128, 128]\n",
      "hidden:[128, 128]\n",
      "out:[128, 10]\n",
      "\n",
      ">>> data:[10000, 28, 28, 1]\n",
      "conv1:[10000, 28, 28, 16]\n",
      "max-pooling1:[10000, 14, 14, 16]\n",
      "conv2:[10000, 14, 14, 16]\n",
      "max-pooling1:[10000, 7, 7, 16]\n",
      "hidden:[10000, 128]\n",
      "hidden:[10000, 128]\n",
      "out:[10000, 10]\n",
      "\n",
      ">>> data:[10000, 28, 28, 1]\n",
      "conv1:[10000, 28, 28, 16]\n",
      "max-pooling1:[10000, 14, 14, 16]\n",
      "conv2:[10000, 14, 14, 16]\n",
      "max-pooling1:[10000, 7, 7, 16]\n",
      "hidden:[10000, 128]\n",
      "hidden:[10000, 128]\n",
      "out:[10000, 10]\n"
     ]
    }
   ],
   "source": [
    "graph = tf.Graph()\n",
    "\n",
    "with graph.as_default():\n",
    "\n",
    "  # Input data.\n",
    "  tf_train_dataset = tf.placeholder(tf.float32, shape=(batch_size, image_size, image_size, num_channels))\n",
    "  tf_train_labels = tf.placeholder(tf.float32, shape=(batch_size, num_labels))\n",
    "\n",
    "  tf_valid_dataset = tf.constant(valid_dataset)\n",
    "  tf_test_dataset = tf.constant(test_dataset)\n",
    "  \n",
    "  # Convolution 1 \n",
    "  layer1_weights = tf.Variable(tf.truncated_normal([patch_size, patch_size, num_channels, depth], stddev=0.1))\n",
    "  layer1_biases = tf.Variable(tf.zeros([depth]))\n",
    "\n",
    "  layer2_weights = tf.Variable(tf.truncated_normal([patch_size, patch_size, depth, depth], stddev=0.1))\n",
    "  layer2_biases = tf.Variable(tf.constant(1.0, shape=[depth]))\n",
    "\n",
    "  layer3_weights = tf.Variable(tf.truncated_normal([image_size // 4 * image_size // 4 * depth, num_hidden], stddev=0.1))\n",
    "  layer3_biases = tf.Variable(tf.constant(1.0, shape=[num_hidden]))\n",
    "\n",
    "  layer4_weights = tf.Variable(tf.truncated_normal([num_hidden, num_hidden], stddev=0.1))\n",
    "  layer4_biases = tf.Variable(tf.constant(1.0, shape=[num_hidden]))\n",
    "\n",
    "  layer5_weights = tf.Variable(tf.truncated_normal([num_hidden, num_labels], stddev=0.1))\n",
    "  layer5_biases = tf.Variable(tf.constant(1.0, shape=[num_labels]))\n",
    "  \n",
    "  # Model.\n",
    "  def model(data):\n",
    "    print(\"\\n>>> data:\"+str(data.get_shape().as_list()))\n",
    "    \n",
    "    conv = conv2d(data, layer1_weights , layer1_biases, strides=1,padding='SAME')\n",
    "    print(\"conv1:\"+str(conv.get_shape().as_list()))\n",
    "    mp = maxpool2d(conv, k=2)\n",
    "    print(\"max-pooling1:\"+str(mp.get_shape().as_list()))\n",
    "    \n",
    "    conv = conv2d(mp, layer2_weights , layer2_biases, strides=1,padding='SAME')\n",
    "    print(\"conv2:\"+str(conv.get_shape().as_list()))\n",
    "    mp = maxpool2d(conv, k=2)\n",
    "    print(\"max-pooling1:\"+str(mp.get_shape().as_list()))\n",
    "    \n",
    "    shape = mp.get_shape().as_list()\n",
    "    reshape = tf.reshape(mp, [shape[0], shape[1] * shape[2] * shape[3]])\n",
    "    hidden = tf.nn.relu(tf.matmul(reshape, layer3_weights) + layer3_biases)\n",
    "    print(\"hidden:\"+str(hidden.get_shape().as_list()))\n",
    "    \n",
    "    hidden = tf.nn.relu(tf.matmul(hidden, layer4_weights) + layer4_biases)\n",
    "    print(\"hidden:\"+str(hidden.get_shape().as_list()))\n",
    "    \n",
    "    out = tf.matmul(hidden, layer5_weights) + layer5_biases\n",
    "    print(\"out:\"+str(out.get_shape().as_list()))\n",
    "    return out\n",
    "  \n",
    "  # Training computation.\n",
    "  logits = model(tf_train_dataset)\n",
    "  loss = tf.reduce_mean(tf.nn.softmax_cross_entropy_with_logits(logits, tf_train_labels))\n",
    "    \n",
    "  # Optimizer.\n",
    "  #optimizer = tf.train.GradientDescentOptimizer(0.05).minimize(loss)\n",
    "  global_step = tf.Variable(0)  # count the number of steps taken.\n",
    "  learning_rate = tf.train.exponential_decay(0.05, global_step, 100000, 0.96, staircase=True)\n",
    "  optimizer = tf.train.GradientDescentOptimizer(learning_rate).minimize(loss, global_step=global_step)\n",
    "  \n",
    "  # Predictions for the training, validation, and test data.\n",
    "  train_prediction = tf.nn.softmax(logits)\n",
    "  valid_prediction = tf.nn.softmax(model(tf_valid_dataset))\n",
    "  test_prediction = tf.nn.softmax(model(tf_test_dataset))"
   ]
  },
  {
   "cell_type": "code",
   "execution_count": 77,
   "metadata": {
    "collapsed": false
   },
   "outputs": [
    {
     "name": "stdout",
     "output_type": "stream",
     "text": [
      "Initialized\n",
      "\n",
      "Minibatch loss at step 0: 4.579202\n",
      "Minibatch accuracy: 11.7%\n",
      "Validation accuracy: 10.0%\n",
      "Test accuracy: 10.0%\n",
      "\n",
      "Minibatch loss at step 500: 0.372589\n",
      "Minibatch accuracy: 89.8%\n",
      "Validation accuracy: 84.6%\n",
      "Test accuracy: 91.4%\n",
      "\n",
      "Minibatch loss at step 1000: 0.547572\n",
      "Minibatch accuracy: 82.0%\n",
      "Validation accuracy: 86.1%\n",
      "Test accuracy: 92.6%\n",
      "\n",
      "Minibatch loss at step 1500: 0.315100\n",
      "Minibatch accuracy: 90.6%\n",
      "Validation accuracy: 87.0%\n",
      "Test accuracy: 93.5%\n",
      "\n",
      "Minibatch loss at step 2000: 0.283378\n",
      "Minibatch accuracy: 93.8%\n",
      "Validation accuracy: 88.0%\n",
      "Test accuracy: 93.9%\n",
      "\n",
      "Minibatch loss at step 2500: 0.363731\n",
      "Minibatch accuracy: 88.3%\n",
      "Validation accuracy: 88.0%\n",
      "Test accuracy: 94.2%\n",
      "\n",
      "Minibatch loss at step 3000: 0.385576\n",
      "Minibatch accuracy: 88.3%\n",
      "Validation accuracy: 88.2%\n",
      "Test accuracy: 94.5%\n"
     ]
    }
   ],
   "source": [
    "num_steps = 3001\n",
    "\n",
    "with tf.Session(graph=graph) as session:\n",
    "  tf.global_variables_initializer().run()\n",
    "  print('Initialized')\n",
    "  for step in range(num_steps):\n",
    "    offset = (step * batch_size) % (train_labels.shape[0] - batch_size)\n",
    "    \n",
    "    batch_data = train_dataset[offset:(offset + batch_size), :, :, :]\n",
    "    batch_labels = train_labels[offset:(offset + batch_size), :]\n",
    "    \n",
    "    feed_dict = {tf_train_dataset : batch_data, tf_train_labels : batch_labels}\n",
    "    _, l, predictions = session.run([optimizer, loss, train_prediction], feed_dict=feed_dict)\n",
    "    \n",
    "    if (step % 500 == 0):\n",
    "      print('\\nMinibatch loss at step %d: %f' % (step, l))\n",
    "      print('Minibatch accuracy: %.1f%%' % accuracy(predictions, batch_labels))\n",
    "      print('Validation accuracy: %.1f%%' % accuracy(valid_prediction.eval(), valid_labels))\n",
    "      print('Test accuracy: %.1f%%' % accuracy(test_prediction.eval(), test_labels))"
   ]
  },
  {
   "cell_type": "markdown",
   "metadata": {},
   "source": [
    "## Let's add yet another fully connected layer at the end \n",
    "Let's implement this:\n",
    "\n",
    "1. Image \n",
    "2. Convolution \n",
    "3. Max Pooling \n",
    "4. Convolution \n",
    "5. Max Pooling \n",
    "6. Fully Connected \n",
    "7. Fully Connected \n",
    "7. Fully Connected \n",
    "8. Classifier "
   ]
  },
  {
   "cell_type": "code",
   "execution_count": 79,
   "metadata": {
    "collapsed": false
   },
   "outputs": [
    {
     "name": "stdout",
     "output_type": "stream",
     "text": [
      "\n",
      ">>> data:[128, 28, 28, 1]\n",
      "conv1:[128, 28, 28, 16]\n",
      "max-pooling1:[128, 14, 14, 16]\n",
      "conv2:[128, 14, 14, 16]\n",
      "max-pooling1:[128, 7, 7, 16]\n",
      "hidden:[128, 128]\n",
      "hidden:[128, 128]\n",
      "hidden:[128, 128]\n",
      "out:[128, 10]\n",
      "\n",
      ">>> data:[10000, 28, 28, 1]\n",
      "conv1:[10000, 28, 28, 16]\n",
      "max-pooling1:[10000, 14, 14, 16]\n",
      "conv2:[10000, 14, 14, 16]\n",
      "max-pooling1:[10000, 7, 7, 16]\n",
      "hidden:[10000, 128]\n",
      "hidden:[10000, 128]\n",
      "hidden:[10000, 128]\n",
      "out:[10000, 10]\n",
      "\n",
      ">>> data:[10000, 28, 28, 1]\n",
      "conv1:[10000, 28, 28, 16]\n",
      "max-pooling1:[10000, 14, 14, 16]\n",
      "conv2:[10000, 14, 14, 16]\n",
      "max-pooling1:[10000, 7, 7, 16]\n",
      "hidden:[10000, 128]\n",
      "hidden:[10000, 128]\n",
      "hidden:[10000, 128]\n",
      "out:[10000, 10]\n"
     ]
    }
   ],
   "source": [
    "graph = tf.Graph()\n",
    "\n",
    "with graph.as_default():\n",
    "\n",
    "  # Input data.\n",
    "  tf_train_dataset = tf.placeholder(tf.float32, shape=(batch_size, image_size, image_size, num_channels))\n",
    "  tf_train_labels = tf.placeholder(tf.float32, shape=(batch_size, num_labels))\n",
    "\n",
    "  tf_valid_dataset = tf.constant(valid_dataset)\n",
    "  tf_test_dataset = tf.constant(test_dataset)\n",
    "  \n",
    "  # Convolution 1 \n",
    "  layer1_weights = tf.Variable(tf.truncated_normal([patch_size, patch_size, num_channels, depth], stddev=0.1))\n",
    "  layer1_biases = tf.Variable(tf.zeros([depth]))\n",
    "\n",
    "  layer2_weights = tf.Variable(tf.truncated_normal([patch_size, patch_size, depth, depth], stddev=0.1))\n",
    "  layer2_biases = tf.Variable(tf.constant(1.0, shape=[depth]))\n",
    "\n",
    "  layer3_weights = tf.Variable(tf.truncated_normal([image_size // 4 * image_size // 4 * depth, num_hidden], stddev=0.1))\n",
    "  layer3_biases = tf.Variable(tf.constant(1.0, shape=[num_hidden]))\n",
    "\n",
    "  layer4_weights = tf.Variable(tf.truncated_normal([num_hidden, num_hidden], stddev=0.1))\n",
    "  layer4_biases = tf.Variable(tf.constant(1.0, shape=[num_hidden]))\n",
    "\n",
    "  layer5_weights = tf.Variable(tf.truncated_normal([num_hidden, num_hidden], stddev=0.1))\n",
    "  layer5_biases = tf.Variable(tf.constant(1.0, shape=[num_hidden]))\n",
    "\n",
    "  layer6_weights = tf.Variable(tf.truncated_normal([num_hidden, num_labels], stddev=0.1))\n",
    "  layer6_biases = tf.Variable(tf.constant(1.0, shape=[num_labels]))\n",
    "  \n",
    "  # Model.\n",
    "  def model(data):\n",
    "    print(\"\\n>>> data:\"+str(data.get_shape().as_list()))\n",
    "    \n",
    "    conv = conv2d(data, layer1_weights , layer1_biases, strides=1,padding='SAME')\n",
    "    print(\"conv1:\"+str(conv.get_shape().as_list()))\n",
    "    mp = maxpool2d(conv, k=2)\n",
    "    print(\"max-pooling1:\"+str(mp.get_shape().as_list()))\n",
    "    \n",
    "    conv = conv2d(mp, layer2_weights , layer2_biases, strides=1,padding='SAME')\n",
    "    print(\"conv2:\"+str(conv.get_shape().as_list()))\n",
    "    mp = maxpool2d(conv, k=2)\n",
    "    print(\"max-pooling1:\"+str(mp.get_shape().as_list()))\n",
    "    \n",
    "    shape = mp.get_shape().as_list()\n",
    "    reshape = tf.reshape(mp, [shape[0], shape[1] * shape[2] * shape[3]])\n",
    "    \n",
    "    hidden = tf.nn.relu(tf.matmul(reshape, layer3_weights) + layer3_biases)\n",
    "    print(\"hidden:\"+str(hidden.get_shape().as_list()))\n",
    "    \n",
    "    hidden = tf.nn.relu(tf.matmul(hidden, layer4_weights) + layer4_biases)\n",
    "    print(\"hidden:\"+str(hidden.get_shape().as_list()))\n",
    "    \n",
    "    hidden = tf.nn.relu(tf.matmul(hidden, layer5_weights) + layer5_biases)\n",
    "    print(\"hidden:\"+str(hidden.get_shape().as_list()))\n",
    "    \n",
    "    out = tf.matmul(hidden, layer6_weights) + layer6_biases\n",
    "    print(\"out:\"+str(out.get_shape().as_list()))\n",
    "    return out\n",
    "  \n",
    "  # Training computation.\n",
    "  logits = model(tf_train_dataset)\n",
    "  loss = tf.reduce_mean(tf.nn.softmax_cross_entropy_with_logits(logits, tf_train_labels))\n",
    "    \n",
    "  # Optimizer.\n",
    "  #optimizer = tf.train.GradientDescentOptimizer(0.05).minimize(loss)\n",
    "  global_step = tf.Variable(0)  # count the number of steps taken.\n",
    "  learning_rate = tf.train.exponential_decay(0.05, global_step, 100000, 0.96, staircase=True)\n",
    "  optimizer = tf.train.GradientDescentOptimizer(learning_rate).minimize(loss, global_step=global_step)\n",
    "  \n",
    "  # Predictions for the training, validation, and test data.\n",
    "  train_prediction = tf.nn.softmax(logits)\n",
    "  valid_prediction = tf.nn.softmax(model(tf_valid_dataset))\n",
    "  test_prediction = tf.nn.softmax(model(tf_test_dataset))"
   ]
  },
  {
   "cell_type": "code",
   "execution_count": 80,
   "metadata": {
    "collapsed": false
   },
   "outputs": [
    {
     "name": "stdout",
     "output_type": "stream",
     "text": [
      "Initialized\n",
      "\n",
      "Minibatch loss at step 0: 4.244905\n",
      "Minibatch accuracy: 10.9%\n",
      "Validation accuracy: 8.3%\n",
      "Test accuracy: 8.0%\n",
      "\n",
      "Minibatch loss at step 500: 0.420338\n",
      "Minibatch accuracy: 86.7%\n",
      "Validation accuracy: 84.2%\n",
      "Test accuracy: 91.0%\n",
      "\n",
      "Minibatch loss at step 1000: 0.599001\n",
      "Minibatch accuracy: 80.5%\n",
      "Validation accuracy: 86.0%\n",
      "Test accuracy: 92.4%\n",
      "\n",
      "Minibatch loss at step 1500: 0.285010\n",
      "Minibatch accuracy: 91.4%\n",
      "Validation accuracy: 87.1%\n",
      "Test accuracy: 93.5%\n",
      "\n",
      "Minibatch loss at step 2000: 0.278693\n",
      "Minibatch accuracy: 93.0%\n",
      "Validation accuracy: 87.8%\n",
      "Test accuracy: 94.4%\n",
      "\n",
      "Minibatch loss at step 2500: 0.317523\n",
      "Minibatch accuracy: 90.6%\n",
      "Validation accuracy: 88.3%\n",
      "Test accuracy: 94.5%\n",
      "\n",
      "Minibatch loss at step 3000: 0.342140\n",
      "Minibatch accuracy: 85.9%\n",
      "Validation accuracy: 88.7%\n",
      "Test accuracy: 94.5%\n"
     ]
    }
   ],
   "source": [
    "num_steps = 3001\n",
    "\n",
    "with tf.Session(graph=graph) as session:\n",
    "  tf.global_variables_initializer().run()\n",
    "  print('Initialized')\n",
    "  for step in range(num_steps):\n",
    "    offset = (step * batch_size) % (train_labels.shape[0] - batch_size)\n",
    "    \n",
    "    batch_data = train_dataset[offset:(offset + batch_size), :, :, :]\n",
    "    batch_labels = train_labels[offset:(offset + batch_size), :]\n",
    "    \n",
    "    feed_dict = {tf_train_dataset : batch_data, tf_train_labels : batch_labels}\n",
    "    _, l, predictions = session.run([optimizer, loss, train_prediction], feed_dict=feed_dict)\n",
    "    \n",
    "    if (step % 500 == 0):\n",
    "      print('\\nMinibatch loss at step %d: %f' % (step, l))\n",
    "      print('Minibatch accuracy: %.1f%%' % accuracy(predictions, batch_labels))\n",
    "      print('Validation accuracy: %.1f%%' % accuracy(valid_prediction.eval(), valid_labels))\n",
    "      print('Test accuracy: %.1f%%' % accuracy(test_prediction.eval(), test_labels))"
   ]
  }
 ],
 "metadata": {
  "anaconda-cloud": {},
  "kernelspec": {
   "display_name": "Python 3",
   "language": "python",
   "name": "python3"
  },
  "language_info": {
   "codemirror_mode": {
    "name": "ipython",
    "version": 3
   },
   "file_extension": ".py",
   "mimetype": "text/x-python",
   "name": "python",
   "nbconvert_exporter": "python",
   "pygments_lexer": "ipython3",
   "version": "3.5.2"
  }
 },
 "nbformat": 4,
 "nbformat_minor": 0
}
