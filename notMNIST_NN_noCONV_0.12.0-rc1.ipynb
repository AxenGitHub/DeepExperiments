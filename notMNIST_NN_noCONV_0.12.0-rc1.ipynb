{
 "cells": [
  {
   "cell_type": "markdown",
   "metadata": {},
   "source": [
    "# Fully Connected Naural Networks - No Convolutions "
   ]
  },
  {
   "cell_type": "code",
   "execution_count": 1,
   "metadata": {
    "collapsed": true
   },
   "outputs": [],
   "source": [
    "# These are all the modules we'll be using later. Make sure you can import them\n",
    "# before proceeding further.\n",
    "from __future__ import print_function\n",
    "import numpy as np\n",
    "import tensorflow as tf\n",
    "from six.moves import cPickle as pickle\n",
    "from six.moves import range"
   ]
  },
  {
   "cell_type": "markdown",
   "metadata": {},
   "source": [
    "First reload the data we generated in __notMNIST_nonTensorFlow_comparisons.ipynb__."
   ]
  },
  {
   "cell_type": "code",
   "execution_count": 2,
   "metadata": {
    "collapsed": false
   },
   "outputs": [
    {
     "name": "stdout",
     "output_type": "stream",
     "text": [
      "Training set (200000, 28, 28) (200000,)\n",
      "Validation set (10000, 28, 28) (10000,)\n",
      "Test set (10000, 28, 28) (10000,)\n"
     ]
    }
   ],
   "source": [
    "pickle_file = 'notMNIST.pickle'\n",
    "\n",
    "with open(pickle_file, 'rb') as f:\n",
    "  save = pickle.load(f)\n",
    "  train_dataset = save['train_dataset']\n",
    "  train_labels = save['train_labels']\n",
    "  valid_dataset = save['valid_dataset']\n",
    "  valid_labels = save['valid_labels']\n",
    "  test_dataset = save['test_dataset']\n",
    "  test_labels = save['test_labels']\n",
    "  del save  # hint to help gc free up memory\n",
    "  print('Training set', train_dataset.shape, train_labels.shape)\n",
    "  print('Validation set', valid_dataset.shape, valid_labels.shape)\n",
    "  print('Test set', test_dataset.shape, test_labels.shape)"
   ]
  },
  {
   "cell_type": "markdown",
   "metadata": {},
   "source": [
    "Reformat into a shape that's more adapted to the models we're going to train:\n",
    "* data as a flat matrix,\n",
    "* labels as float 1-hot encodings."
   ]
  },
  {
   "cell_type": "code",
   "execution_count": 3,
   "metadata": {
    "collapsed": false
   },
   "outputs": [
    {
     "name": "stdout",
     "output_type": "stream",
     "text": [
      "Training set (200000, 784) (200000, 10)\n",
      "Validation set (10000, 784) (10000, 10)\n",
      "Test set (10000, 784) (10000, 10)\n"
     ]
    }
   ],
   "source": [
    "image_size = 28\n",
    "num_labels = 10\n",
    "\n",
    "def reformat(dataset, labels):\n",
    "  dataset = dataset.reshape((-1, image_size * image_size)).astype(np.float32)\n",
    "  # Map 0 to [1.0, 0.0, 0.0 ...], 1 to [0.0, 1.0, 0.0 ...]\n",
    "  labels = (np.arange(num_labels) == labels[:,None]).astype(np.float32)\n",
    "  return dataset, labels\n",
    "train_dataset, train_labels = reformat(train_dataset, train_labels)\n",
    "valid_dataset, valid_labels = reformat(valid_dataset, valid_labels)\n",
    "test_dataset, test_labels = reformat(test_dataset, test_labels)\n",
    "print('Training set', train_dataset.shape, train_labels.shape)\n",
    "print('Validation set', valid_dataset.shape, valid_labels.shape)\n",
    "print('Test set', test_dataset.shape, test_labels.shape)"
   ]
  },
  {
   "cell_type": "markdown",
   "metadata": {},
   "source": [
    "We're first going to train a multinomial logistic regression using simple gradient descent.\n",
    "TensorFlow works like this:\n",
    "First you describe the computation that you want to see performed: what the inputs, the variables, and the operations look like. These get created as nodes over a computation graph. This description is all contained within the block below:\n",
    "with graph.as_default():\n",
    "    ...\n",
    "Then you can run the operations on this graph as many times as you want by calling session.run(), providing it outputs to fetch from the graph that get returned. This runtime operation is all contained in the block below:\n",
    "with tf.Session(graph=graph) as session:\n",
    "    ...\n",
    "Let's load all the data into TensorFlow and build the computation graph corresponding to our training:"
   ]
  },
  {
   "cell_type": "code",
   "execution_count": 4,
   "metadata": {
    "collapsed": true
   },
   "outputs": [],
   "source": [
    "# With gradient descent training, even this much data is prohibitive.\n",
    "# Subset the training data for faster turnaround.\n",
    "train_subset = 10000\n",
    "\n",
    "graph = tf.Graph()\n",
    "with graph.as_default():\n",
    "\n",
    "  # Input data.\n",
    "  # Load the training, validation and test data into constants that are\n",
    "  # attached to the graph.\n",
    "  tf_train_dataset = tf.constant(train_dataset[:train_subset, :])\n",
    "  tf_train_labels = tf.constant(train_labels[:train_subset])\n",
    "  tf_valid_dataset = tf.constant(valid_dataset)\n",
    "  tf_test_dataset = tf.constant(test_dataset)\n",
    "  \n",
    "  # Variables.\n",
    "  # These are the parameters that we are going to be training. The weight\n",
    "  # matrix will be initialized using random values following a (truncated)\n",
    "  # normal distribution. The biases get initialized to zero.\n",
    "  weights = tf.Variable(\n",
    "    tf.truncated_normal([image_size * image_size, num_labels]))\n",
    "  biases = tf.Variable(tf.zeros([num_labels]))\n",
    "  \n",
    "  # Training computation.\n",
    "  # We multiply the inputs with the weight matrix, and add biases. We compute\n",
    "  # the softmax and cross-entropy (it's one operation in TensorFlow, because\n",
    "  # it's very common, and it can be optimized). We take the average of this\n",
    "  # cross-entropy across all training examples: that's our loss.\n",
    "  logits = tf.matmul(tf_train_dataset, weights) + biases\n",
    "  loss = tf.reduce_mean(\n",
    "    tf.nn.softmax_cross_entropy_with_logits(logits, tf_train_labels))\n",
    "  \n",
    "  # Optimizer.\n",
    "  # We are going to find the minimum of this loss using gradient descent.\n",
    "  optimizer = tf.train.GradientDescentOptimizer(0.5).minimize(loss)\n",
    "  \n",
    "  # Predictions for the training, validation, and test data.\n",
    "  # These are not part of training, but merely here so that we can report\n",
    "  # accuracy figures as we train.\n",
    "  train_prediction = tf.nn.softmax(logits)\n",
    "  valid_prediction = tf.nn.softmax(\n",
    "    tf.matmul(tf_valid_dataset, weights) + biases)\n",
    "  test_prediction = tf.nn.softmax(tf.matmul(tf_test_dataset, weights) + biases)"
   ]
  },
  {
   "cell_type": "markdown",
   "metadata": {},
   "source": [
    "Let's run this computation and iterate:"
   ]
  },
  {
   "cell_type": "code",
   "execution_count": 5,
   "metadata": {
    "collapsed": true
   },
   "outputs": [],
   "source": [
    "def accuracy(predictions, labels):\n",
    "  return (100.0 * np.sum(np.argmax(predictions, 1) == np.argmax(labels, 1))\n",
    "          / predictions.shape[0])"
   ]
  },
  {
   "cell_type": "code",
   "execution_count": 6,
   "metadata": {
    "collapsed": false
   },
   "outputs": [
    {
     "name": "stdout",
     "output_type": "stream",
     "text": [
      "Initialized\n",
      "Loss at step 0: 15.622773\n",
      "Training accuracy: 9.7%\n",
      "Validation accuracy: 12.8%\n",
      "Loss at step 100: 2.206898\n",
      "Training accuracy: 71.8%\n",
      "Validation accuracy: 70.9%\n",
      "Loss at step 200: 1.785053\n",
      "Training accuracy: 75.1%\n",
      "Validation accuracy: 73.0%\n",
      "Loss at step 300: 1.557831\n",
      "Training accuracy: 76.3%\n",
      "Validation accuracy: 73.8%\n",
      "Loss at step 400: 1.404167\n",
      "Training accuracy: 77.3%\n",
      "Validation accuracy: 74.3%\n",
      "Loss at step 500: 1.288768\n",
      "Training accuracy: 77.8%\n",
      "Validation accuracy: 74.7%\n",
      "Loss at step 600: 1.197277\n",
      "Training accuracy: 78.4%\n",
      "Validation accuracy: 74.8%\n",
      "Loss at step 700: 1.122476\n",
      "Training accuracy: 78.9%\n",
      "Validation accuracy: 75.1%\n",
      "Loss at step 800: 1.059915\n",
      "Training accuracy: 79.3%\n",
      "Validation accuracy: 75.1%\n",
      "Test accuracy: 82.9%\n"
     ]
    }
   ],
   "source": [
    "num_steps = 801\n",
    "\n",
    "with tf.Session(graph=graph) as session:\n",
    "  # This is a one-time operation which ensures the parameters get initialized as\n",
    "  # we described in the graph: random weights for the matrix, zeros for the\n",
    "  # biases. \n",
    "  tf.global_variables_initializer().run()\n",
    "  print('Initialized')\n",
    "  for step in range(num_steps):\n",
    "    # Run the computations. We tell .run() that we want to run the optimizer,\n",
    "    # and get the loss value and the training predictions returned as numpy\n",
    "    # arrays.\n",
    "    _, l, predictions = session.run([optimizer, loss, train_prediction])\n",
    "    if (step % 100 == 0):\n",
    "      print('Loss at step %d: %f' % (step, l))\n",
    "      print('Training accuracy: %.1f%%' % accuracy(\n",
    "        predictions, train_labels[:train_subset, :]))\n",
    "      # Calling .eval() on valid_prediction is basically like calling run(), but\n",
    "      # just to get that one numpy array. Note that it recomputes all its graph\n",
    "      # dependencies.\n",
    "      print('Validation accuracy: %.1f%%' % accuracy(\n",
    "        valid_prediction.eval(), valid_labels))\n",
    "  print('Test accuracy: %.1f%%' % accuracy(test_prediction.eval(), test_labels))"
   ]
  },
  {
   "cell_type": "markdown",
   "metadata": {
    "collapsed": true
   },
   "source": [
    "Let's now switch to stochastic gradient descent training instead, which is much faster.\n",
    "The graph will be similar, except that instead of holding all the training data into a constant node, we create a Placeholder node which will be fed actual data at every call of session.run()."
   ]
  },
  {
   "cell_type": "code",
   "execution_count": 7,
   "metadata": {
    "collapsed": true
   },
   "outputs": [],
   "source": [
    "batch_size = 128\n",
    "\n",
    "graph = tf.Graph()\n",
    "with graph.as_default():\n",
    "\n",
    "  # Input data. For the training data, we use a placeholder that will be fed\n",
    "  # at run time with a training minibatch.\n",
    "  tf_train_dataset = tf.placeholder(tf.float32,\n",
    "                                    shape=(batch_size, image_size * image_size))\n",
    "  tf_train_labels = tf.placeholder(tf.float32, shape=(batch_size, num_labels))\n",
    "  tf_valid_dataset = tf.constant(valid_dataset)\n",
    "  tf_test_dataset = tf.constant(test_dataset)\n",
    "  \n",
    "  # Variables.\n",
    "  weights = tf.Variable(\n",
    "    tf.truncated_normal([image_size * image_size, num_labels]))\n",
    "  biases = tf.Variable(tf.zeros([num_labels]))\n",
    "  \n",
    "  # Training computation.\n",
    "  logits = tf.matmul(tf_train_dataset, weights) + biases\n",
    "  loss = tf.reduce_mean(\n",
    "    tf.nn.softmax_cross_entropy_with_logits(logits, tf_train_labels))\n",
    "  \n",
    "  # Optimizer.\n",
    "  optimizer = tf.train.GradientDescentOptimizer(0.5).minimize(loss)\n",
    "  \n",
    "  # Predictions for the training, validation, and test data.\n",
    "  train_prediction = tf.nn.softmax(logits)\n",
    "  valid_prediction = tf.nn.softmax(\n",
    "    tf.matmul(tf_valid_dataset, weights) + biases)\n",
    "  test_prediction = tf.nn.softmax(tf.matmul(tf_test_dataset, weights) + biases)"
   ]
  },
  {
   "cell_type": "markdown",
   "metadata": {},
   "source": [
    "Let's run it:"
   ]
  },
  {
   "cell_type": "code",
   "execution_count": 8,
   "metadata": {
    "collapsed": false
   },
   "outputs": [
    {
     "name": "stdout",
     "output_type": "stream",
     "text": [
      "Initialized\n",
      "Minibatch loss at step 0: 20.808575\n",
      "Minibatch accuracy: 6.2%\n",
      "Validation accuracy: 12.1%\n",
      "Minibatch loss at step 500: 1.231158\n",
      "Minibatch accuracy: 83.6%\n",
      "Validation accuracy: 75.5%\n",
      "Minibatch loss at step 1000: 1.189087\n",
      "Minibatch accuracy: 82.8%\n",
      "Validation accuracy: 76.6%\n",
      "Minibatch loss at step 1500: 0.762940\n",
      "Minibatch accuracy: 80.5%\n",
      "Validation accuracy: 77.0%\n",
      "Minibatch loss at step 2000: 0.906330\n",
      "Minibatch accuracy: 83.6%\n",
      "Validation accuracy: 77.4%\n",
      "Minibatch loss at step 2500: 0.915213\n",
      "Minibatch accuracy: 78.9%\n",
      "Validation accuracy: 78.2%\n",
      "Minibatch loss at step 3000: 1.176632\n",
      "Minibatch accuracy: 73.4%\n",
      "Validation accuracy: 78.7%\n",
      "Test accuracy: 86.3%\n"
     ]
    }
   ],
   "source": [
    "num_steps = 3001\n",
    "\n",
    "with tf.Session(graph=graph) as session:\n",
    "  tf.global_variables_initializer().run()\n",
    "  print(\"Initialized\")\n",
    "  for step in range(num_steps):\n",
    "    # Pick an offset within the training data, which has been randomized.\n",
    "    # Note: we could use better randomization across epochs.\n",
    "    offset = (step * batch_size) % (train_labels.shape[0] - batch_size)\n",
    "    # Generate a minibatch.\n",
    "    batch_data = train_dataset[offset:(offset + batch_size), :]\n",
    "    batch_labels = train_labels[offset:(offset + batch_size), :]\n",
    "    # Prepare a dictionary telling the session where to feed the minibatch.\n",
    "    # The key of the dictionary is the placeholder node of the graph to be fed,\n",
    "    # and the value is the numpy array to feed to it.\n",
    "    feed_dict = {tf_train_dataset : batch_data, tf_train_labels : batch_labels}\n",
    "    _, l, predictions = session.run(\n",
    "      [optimizer, loss, train_prediction], feed_dict=feed_dict)\n",
    "    if (step % 500 == 0):\n",
    "      print(\"Minibatch loss at step %d: %f\" % (step, l))\n",
    "      print(\"Minibatch accuracy: %.1f%%\" % accuracy(predictions, batch_labels))\n",
    "      print(\"Validation accuracy: %.1f%%\" % accuracy(\n",
    "        valid_prediction.eval(), valid_labels))\n",
    "  print(\"Test accuracy: %.1f%%\" % accuracy(test_prediction.eval(), test_labels))"
   ]
  },
  {
   "cell_type": "markdown",
   "metadata": {},
   "source": [
    "## 1-hidden layer neural network with rectified linear units\n",
    "Turn the logistic regression example with SGD into a 1-hidden layer neural network with rectified linear units nn.relu() and 1024 hidden nodes. This model should improve your validation / test accuracy."
   ]
  },
  {
   "cell_type": "code",
   "execution_count": 9,
   "metadata": {
    "collapsed": false
   },
   "outputs": [],
   "source": [
    "import math\n",
    "batch_size = 128\n",
    "\n",
    "graph = tf.Graph()\n",
    "with graph.as_default():\n",
    "\n",
    "  # Input data. For the training data, we use a placeholder that will be fed\n",
    "  # at run time with a training minibatch.\n",
    "  tf_train_dataset = tf.placeholder(tf.float32,\n",
    "                                    shape=(batch_size, image_size * image_size))\n",
    "  tf_train_labels = tf.placeholder(tf.float32, shape=(batch_size, num_labels))\n",
    "  tf_valid_dataset = tf.constant(valid_dataset)\n",
    "  tf_test_dataset = tf.constant(test_dataset)\n",
    "    \n",
    "  # Hidden 1\n",
    "  weights_1 = tf.Variable(tf.truncated_normal([image_size * image_size, 1024], name='weights_1'))\n",
    "  biases_1 = tf.Variable(tf.zeros([1024]),name='biases_1')\n",
    "  hidden_1 = tf.nn.relu(tf.matmul(tf_train_dataset, weights_1) + biases_1)\n",
    "    \n",
    "  # Softmax \n",
    "  weights_2 = tf.Variable(tf.truncated_normal([1024, num_labels], name='weights_2'))\n",
    "  biases_2 = tf.Variable(tf.zeros([num_labels]),name='biases_2')\n",
    "  logits = tf.matmul(hidden_1, weights_2) + biases_2\n",
    "  \n",
    "  # \n",
    "  loss = tf.reduce_mean(tf.nn.softmax_cross_entropy_with_logits(logits, tf_train_labels))\n",
    "  \n",
    "  # Optimizer.\n",
    "  optimizer = tf.train.GradientDescentOptimizer(0.5).minimize(loss)\n",
    "  \n",
    "  # Predictions for the training, validation, and test data.\n",
    "  train_prediction = tf.nn.softmax(logits)\n",
    "  valid_prediction = tf.nn.softmax(\n",
    "    tf.matmul(tf.nn.relu(tf.matmul(tf_valid_dataset, weights_1) + biases_1), weights_2) + biases_2)\n",
    "  test_prediction = tf.nn.softmax(\n",
    "    tf.matmul(tf.nn.relu(tf.matmul(tf_test_dataset, weights_1) + biases_1), weights_2) + biases_2)"
   ]
  },
  {
   "cell_type": "code",
   "execution_count": 10,
   "metadata": {
    "collapsed": false
   },
   "outputs": [
    {
     "name": "stdout",
     "output_type": "stream",
     "text": [
      "Initialized\n",
      "Minibatch loss at step 0: 379.811035\n",
      "Minibatch accuracy: 5.5%\n",
      "Validation accuracy: 30.3%\n",
      "Minibatch loss at step 500: 15.895688\n",
      "Minibatch accuracy: 80.5%\n",
      "Validation accuracy: 79.6%\n",
      "Minibatch loss at step 1000: 13.395529\n",
      "Minibatch accuracy: 79.7%\n",
      "Validation accuracy: 80.4%\n",
      "Minibatch loss at step 1500: 7.302328\n",
      "Minibatch accuracy: 85.2%\n",
      "Validation accuracy: 81.2%\n",
      "Minibatch loss at step 2000: 1.909235\n",
      "Minibatch accuracy: 85.9%\n",
      "Validation accuracy: 82.3%\n",
      "Minibatch loss at step 2500: 9.687134\n",
      "Minibatch accuracy: 82.0%\n",
      "Validation accuracy: 82.1%\n",
      "Minibatch loss at step 3000: 1.857408\n",
      "Minibatch accuracy: 84.4%\n",
      "Validation accuracy: 82.0%\n",
      "Test accuracy: 89.1%\n"
     ]
    }
   ],
   "source": [
    "num_steps = 3001\n",
    "\n",
    "with tf.Session(graph=graph) as session:\n",
    "  tf.global_variables_initializer().run()\n",
    "  print(\"Initialized\")\n",
    "  for step in range(num_steps):\n",
    "    # Pick an offset within the training data, which has been randomized.\n",
    "    # Note: we could use better randomization across epochs.\n",
    "    offset = (step * batch_size) % (train_labels.shape[0] - batch_size)\n",
    "    # Generate a minibatch.\n",
    "    batch_data = train_dataset[offset:(offset + batch_size), :]\n",
    "    batch_labels = train_labels[offset:(offset + batch_size), :]\n",
    "    # Prepare a dictionary telling the session where to feed the minibatch.\n",
    "    # The key of the dictionary is the placeholder node of the graph to be fed,\n",
    "    # and the value is the numpy array to feed to it.\n",
    "    feed_dict = {tf_train_dataset : batch_data, tf_train_labels : batch_labels}\n",
    "    _, l, predictions = session.run(\n",
    "      [optimizer, loss, train_prediction], feed_dict=feed_dict)\n",
    "    if (step % 500 == 0):\n",
    "      print(\"Minibatch loss at step %d: %f\" % (step, l))\n",
    "      print(\"Minibatch accuracy: %.1f%%\" % accuracy(predictions, batch_labels))\n",
    "      print(\"Validation accuracy: %.1f%%\" % accuracy(\n",
    "        valid_prediction.eval(), valid_labels))\n",
    "  print(\"Test accuracy: %.1f%%\" % accuracy(test_prediction.eval(), test_labels))"
   ]
  },
  {
   "cell_type": "markdown",
   "metadata": {},
   "source": [
    "## 2-hidden layer neural network with rectified linear units\n",
    "Let's start with neural network architecture in the same way as shown above ... "
   ]
  },
  {
   "cell_type": "code",
   "execution_count": 11,
   "metadata": {
    "collapsed": true
   },
   "outputs": [],
   "source": [
    "def variable_summaries(var):\n",
    "  \"\"\"Attach a lot of summaries to a Tensor (for TensorBoard visualization).\"\"\"\n",
    "  with tf.name_scope('summaries'):\n",
    "    mean = tf.reduce_mean(var)\n",
    "    tf.summary.scalar(var.name+'_mean', mean)\n",
    "    #tf.scalar_summary(var.name+'_mean', mean)\n",
    "    stddev = tf.sqrt(tf.reduce_mean(tf.square(var - mean)))\n",
    "    tf.summary.scalar(var.name+'_stddev', stddev)\n",
    "    #tf.scalar_summary(var.name+'_stddev', stddev)\n",
    "    tf.summary.scalar(var.name+'_max', tf.reduce_max(var))\n",
    "    #tf.scalar_summary(var.name+'_max', tf.reduce_max(var))\n",
    "    tf.summary.scalar(var.name+'_min', tf.reduce_min(var))\n",
    "    #tf.histogram_summary( var.name, var)\n",
    "    #tf.summary.histogram( var.name, var)"
   ]
  },
  {
   "cell_type": "code",
   "execution_count": 12,
   "metadata": {
    "collapsed": false
   },
   "outputs": [
    {
     "name": "stdout",
     "output_type": "stream",
     "text": [
      "INFO:tensorflow:Summary name hidden1/Relu:0_mean is illegal; using hidden1/Relu_0_mean instead.\n",
      "INFO:tensorflow:Summary name hidden1/Relu:0_stddev is illegal; using hidden1/Relu_0_stddev instead.\n",
      "INFO:tensorflow:Summary name hidden1/Relu:0_max is illegal; using hidden1/Relu_0_max instead.\n",
      "INFO:tensorflow:Summary name hidden1/Relu:0_min is illegal; using hidden1/Relu_0_min instead.\n",
      "INFO:tensorflow:Summary name hidden2/Relu:0_mean is illegal; using hidden2/Relu_0_mean instead.\n",
      "INFO:tensorflow:Summary name hidden2/Relu:0_stddev is illegal; using hidden2/Relu_0_stddev instead.\n",
      "INFO:tensorflow:Summary name hidden2/Relu:0_max is illegal; using hidden2/Relu_0_max instead.\n",
      "INFO:tensorflow:Summary name hidden2/Relu:0_min is illegal; using hidden2/Relu_0_min instead.\n"
     ]
    }
   ],
   "source": [
    "import math\n",
    "batch_size = 128\n",
    "\n",
    "hidden_size = 1024\n",
    "#hidden_size = 1024\n",
    "\n",
    "graph = tf.Graph()\n",
    "with graph.as_default():\n",
    "\n",
    "  # Input data. For the training data, we use a placeholder that will be fed\n",
    "  # at run time with a training minibatch.\n",
    "  tf_train_dataset = tf.placeholder(tf.float32,shape=(batch_size, image_size * image_size))\n",
    "  tf_train_labels = tf.placeholder(tf.float32, shape=(batch_size, num_labels))\n",
    "  tf_valid_dataset = tf.constant(valid_dataset)\n",
    "  tf_test_dataset = tf.constant(test_dataset)\n",
    "    \n",
    "  # Hidden 1\n",
    "  with tf.name_scope(\"hidden1\"):\n",
    "    weights_1 = tf.Variable(tf.truncated_normal([image_size * image_size, 1024], name='weights_1'))\n",
    "    biases_1 = tf.Variable(tf.zeros([1024]),name='biases_1')\n",
    "    hidden_1 = tf.nn.relu(tf.matmul(tf_train_dataset, weights_1) + biases_1)\n",
    "    variable_summaries(hidden_1)\n",
    "    \n",
    "  # Hidden 2\n",
    "  with tf.name_scope(\"hidden2\"):\n",
    "    weights_2 = tf.Variable(tf.truncated_normal([1024, 1024], name='weights_2'))\n",
    "    biases_2 = tf.Variable(tf.zeros([1024]),name='biases_2')\n",
    "    hidden_2 = tf.nn.relu(tf.matmul(hidden_1, weights_2) + biases_2)\n",
    "    variable_summaries(hidden_2)\n",
    "    \n",
    "  # Softmax \n",
    "  with tf.name_scope(\"softmax\"):\n",
    "    weights_3 = tf.Variable(tf.truncated_normal([1024, 10], name='weights_3'))\n",
    "    biases_3 = tf.Variable(tf.zeros([10]),name='biases_3')\n",
    "    logits = tf.matmul(hidden_2, weights_3) + biases_3\n",
    "  \n",
    "  # \n",
    "  loss = tf.reduce_mean(tf.nn.softmax_cross_entropy_with_logits(logits, tf_train_labels))\n",
    "  tf.summary.scalar('loss', loss)\n",
    "  \n",
    "  # Optimizer.\n",
    "  global_step = tf.Variable(0)  # count the number of steps taken.\n",
    "  learning_rate = tf.train.exponential_decay(0.5, global_step, 100000, 0.96, staircase=True)\n",
    "  optimizer = tf.train.GradientDescentOptimizer(learning_rate).minimize(loss, global_step=global_step)\n",
    "  #optimizer = tf.train.GradientDescentOptimizer(0.1).minimize(loss)\n",
    "  \n",
    "  # Predictions for the training, validation, and test data.\n",
    "  train_prediction = tf.nn.softmax(logits)\n",
    "\n",
    "\n",
    "  valid_prediction = tf.nn.softmax(\n",
    "    tf.matmul(tf.nn.relu(tf.matmul(tf.nn.relu(tf.matmul(tf_valid_dataset, weights_1) + biases_1), weights_2) + biases_2),\n",
    "              weights_3)+biases_3)\n",
    "  test_prediction = tf.nn.softmax(\n",
    "    tf.matmul(tf.nn.relu(tf.matmul(tf.nn.relu(tf.matmul(tf_test_dataset, weights_1) + biases_1), weights_2) + biases_2),\n",
    "              weights_3)+biases_3)"
   ]
  },
  {
   "cell_type": "code",
   "execution_count": 13,
   "metadata": {
    "collapsed": false
   },
   "outputs": [
    {
     "name": "stdout",
     "output_type": "stream",
     "text": [
      "Initialized\n",
      "Minibatch loss at step 0: 7125.931641\n",
      "Minibatch accuracy: 11.7%\n",
      "Validation accuracy: 10.0%\n",
      "Test accuracy: 10.0%\n",
      "Minibatch loss at step 500: nan\n",
      "Minibatch accuracy: 9.4%\n",
      "Validation accuracy: 10.0%\n",
      "Test accuracy: 10.0%\n",
      "Minibatch loss at step 1000: nan\n",
      "Minibatch accuracy: 8.6%\n",
      "Validation accuracy: 10.0%\n",
      "Test accuracy: 10.0%\n",
      "Minibatch loss at step 1500: nan\n",
      "Minibatch accuracy: 11.7%\n",
      "Validation accuracy: 10.0%\n",
      "Test accuracy: 10.0%\n",
      "Minibatch loss at step 2000: nan\n",
      "Minibatch accuracy: 6.2%\n",
      "Validation accuracy: 10.0%\n",
      "Test accuracy: 10.0%\n",
      "Minibatch loss at step 2500: nan\n",
      "Minibatch accuracy: 10.2%\n",
      "Validation accuracy: 10.0%\n",
      "Test accuracy: 10.0%\n",
      "Minibatch loss at step 3000: nan\n",
      "Minibatch accuracy: 7.8%\n",
      "Validation accuracy: 10.0%\n",
      "Test accuracy: 10.0%\n"
     ]
    }
   ],
   "source": [
    "import os.path\n",
    "\n",
    "num_steps = 3001\n",
    "with tf.Session(graph=graph) as session:\n",
    "    \n",
    "  saver = tf.train.Saver()\n",
    "  \n",
    "  tf.global_variables_initializer().run()  \n",
    "  print('Initialized')\n",
    "    \n",
    "  merged = tf.summary.merge_all()\n",
    "  writer = tf.summary.FileWriter('./_logs4',session.graph)  \n",
    "  \n",
    "  for step in range(num_steps):\n",
    "    offset = (step * batch_size) % (train_labels.shape[0] - batch_size)\n",
    "    \n",
    "    batch_data = train_dataset[offset:(offset + batch_size), :]\n",
    "    batch_labels = train_labels[offset:(offset + batch_size), :]\n",
    "    \n",
    "    feed_dict = {tf_train_dataset : batch_data, tf_train_labels : batch_labels}\n",
    "    _, l, predictions = session.run(\n",
    "      [optimizer, loss, train_prediction], feed_dict=feed_dict)\n",
    "    \n",
    "    if (step % 500 == 0):\n",
    "      summary = session.run(merged, feed_dict=feed_dict)\n",
    "      writer.add_summary(summary, step)\n",
    "      writer.flush()\n",
    "          \n",
    "      checkpoint_file = os.path.join('./_logs4', 'checkpoint')\n",
    "      saver.save(session, checkpoint_file, global_step=step) \n",
    "    \n",
    "      print(\"Minibatch loss at step %d: %f\" % (step, l))\n",
    "      print(\"Minibatch accuracy: %.1f%%\" % accuracy(predictions, batch_labels))\n",
    "      print(\"Validation accuracy: %.1f%%\" % accuracy(valid_prediction.eval(), valid_labels))\n",
    "      print(\"Test accuracy: %.1f%%\" % accuracy(test_prediction.eval(), test_labels))"
   ]
  },
  {
   "cell_type": "markdown",
   "metadata": {},
   "source": [
    "So, it's not going to converge. What could be happended? \n",
    "Let's see if from TesorBoard we can get some info. "
   ]
  },
  {
   "cell_type": "markdown",
   "metadata": {},
   "source": [
    "<img src=\"images/badloss.JPG\"/>"
   ]
  },
  {
   "cell_type": "markdown",
   "metadata": {},
   "source": [
    "The loss function is not going to converge and be minimed. \n",
    "Concretely, the problem was saw here is something called the __problem of symmetric ways__, that's the ways are being the same.  By using random initialization is how we perform symmetry breaking. So we initialize each value of matrices to a random number between minus epsilon (~0.12) and epsilon. "
   ]
  },
  {
   "cell_type": "markdown",
   "metadata": {},
   "source": [
    "## Random initialization: Symmetry Breaking"
   ]
  },
  {
   "cell_type": "code",
   "execution_count": 14,
   "metadata": {
    "collapsed": false
   },
   "outputs": [
    {
     "name": "stdout",
     "output_type": "stream",
     "text": [
      "INFO:tensorflow:Summary name hidden1/Relu:0_mean is illegal; using hidden1/Relu_0_mean instead.\n",
      "INFO:tensorflow:Summary name hidden1/Relu:0_stddev is illegal; using hidden1/Relu_0_stddev instead.\n",
      "INFO:tensorflow:Summary name hidden1/Relu:0_max is illegal; using hidden1/Relu_0_max instead.\n",
      "INFO:tensorflow:Summary name hidden1/Relu:0_min is illegal; using hidden1/Relu_0_min instead.\n",
      "INFO:tensorflow:Summary name hidden2/Relu:0_mean is illegal; using hidden2/Relu_0_mean instead.\n",
      "INFO:tensorflow:Summary name hidden2/Relu:0_stddev is illegal; using hidden2/Relu_0_stddev instead.\n",
      "INFO:tensorflow:Summary name hidden2/Relu:0_max is illegal; using hidden2/Relu_0_max instead.\n",
      "INFO:tensorflow:Summary name hidden2/Relu:0_min is illegal; using hidden2/Relu_0_min instead.\n"
     ]
    }
   ],
   "source": [
    "import math\n",
    "batch_size = 128\n",
    "\n",
    "hidden_size = 1024\n",
    "#hidden_size = 1024\n",
    "\n",
    "graph = tf.Graph()\n",
    "with graph.as_default():\n",
    "\n",
    "  # Input data. For the training data, we use a placeholder that will be fed\n",
    "  # at run time with a training minibatch.\n",
    "  tf_train_dataset = tf.placeholder(tf.float32,shape=(batch_size, image_size * image_size))\n",
    "  tf_train_labels = tf.placeholder(tf.float32, shape=(batch_size, num_labels))\n",
    "  tf_valid_dataset = tf.constant(valid_dataset)\n",
    "  tf_test_dataset = tf.constant(test_dataset)\n",
    "    \n",
    "  # Hidden 1\n",
    "  with tf.name_scope(\"hidden1\"):\n",
    "    weights_1 = tf.Variable(tf.random_uniform([image_size * image_size, hidden_size], minval=-0.12, maxval=0.12),name='weights_1')\n",
    "    biases_1 = tf.Variable(tf.random_uniform([hidden_size],minval=-0.12, maxval=0.12),name='biases_1')\n",
    "    hidden_1 = tf.nn.relu(tf.matmul(tf_train_dataset, weights_1) + biases_1)\n",
    "    variable_summaries(hidden_1)\n",
    "    \n",
    "  # Hidden 2\n",
    "  with tf.name_scope(\"hidden2\"):\n",
    "    weights_2 = tf.Variable(tf.random_uniform([hidden_size, hidden_size], minval=-0.12, maxval=0.12),name='weights_2')\n",
    "    biases_2 = tf.Variable(tf.random_uniform([hidden_size],minval=-0.12, maxval=0.12),name='biases_2')\n",
    "    hidden_2 = tf.nn.relu(tf.matmul(hidden_1, weights_2) + biases_2)\n",
    "    variable_summaries(hidden_2)\n",
    "    \n",
    "  # Softmax \n",
    "  with tf.name_scope(\"softmax\"):\n",
    "    weights_3 = tf.Variable(tf.random_uniform([hidden_size, num_labels],minval=-0.12, maxval=0.12),name='weights_3')\n",
    "    biases_3 = tf.Variable(tf.random_uniform([num_labels],minval=-0.12, maxval=0.12),name='biases_3')\n",
    "    logits = tf.matmul(hidden_2, weights_3) + biases_3\n",
    "  \n",
    "  # \n",
    "  loss = tf.reduce_mean(tf.nn.softmax_cross_entropy_with_logits(logits, tf_train_labels))\n",
    "  tf.summary.scalar('loss', loss)\n",
    "  \n",
    "  # Optimizer.\n",
    "  global_step = tf.Variable(0)  # count the number of steps taken.\n",
    "  learning_rate = tf.train.exponential_decay(0.5, global_step, 100000, 0.96, staircase=True)\n",
    "  optimizer = tf.train.GradientDescentOptimizer(learning_rate).minimize(loss, global_step=global_step)\n",
    "  #optimizer = tf.train.GradientDescentOptimizer(0.1).minimize(loss)\n",
    "  \n",
    "  # Predictions for the training, validation, and test data.\n",
    "  train_prediction = tf.nn.softmax(logits)\n",
    "\n",
    "\n",
    "  valid_prediction = tf.nn.softmax(\n",
    "    tf.matmul(tf.nn.relu(tf.matmul(tf.nn.relu(tf.matmul(tf_valid_dataset, weights_1) + biases_1), weights_2) + biases_2),\n",
    "              weights_3)+biases_3)\n",
    "  test_prediction = tf.nn.softmax(\n",
    "    tf.matmul(tf.nn.relu(tf.matmul(tf.nn.relu(tf.matmul(tf_test_dataset, weights_1) + biases_1), weights_2) + biases_2),\n",
    "              weights_3)+biases_3)"
   ]
  },
  {
   "cell_type": "code",
   "execution_count": 15,
   "metadata": {
    "collapsed": false,
    "scrolled": false
   },
   "outputs": [
    {
     "name": "stdout",
     "output_type": "stream",
     "text": [
      "Initialized\n",
      "Minibatch loss at step 0: 4.199174\n",
      "Minibatch accuracy: 7.8%\n",
      "Validation accuracy: 23.3%\n",
      "Test accuracy: 24.9%\n",
      "Minibatch loss at step 500: 0.347000\n",
      "Minibatch accuracy: 88.3%\n",
      "Validation accuracy: 86.2%\n",
      "Test accuracy: 92.8%\n",
      "Minibatch loss at step 1000: 0.489777\n",
      "Minibatch accuracy: 85.9%\n",
      "Validation accuracy: 87.0%\n",
      "Test accuracy: 93.4%\n",
      "Minibatch loss at step 1500: 0.246631\n",
      "Minibatch accuracy: 93.0%\n",
      "Validation accuracy: 88.0%\n",
      "Test accuracy: 94.0%\n",
      "Minibatch loss at step 2000: 0.251564\n",
      "Minibatch accuracy: 93.8%\n",
      "Validation accuracy: 88.6%\n",
      "Test accuracy: 94.4%\n",
      "Minibatch loss at step 2500: 0.278102\n",
      "Minibatch accuracy: 91.4%\n",
      "Validation accuracy: 89.1%\n",
      "Test accuracy: 95.0%\n",
      "Minibatch loss at step 3000: 0.301892\n",
      "Minibatch accuracy: 88.3%\n",
      "Validation accuracy: 88.8%\n",
      "Test accuracy: 94.7%\n"
     ]
    }
   ],
   "source": [
    "import os.path\n",
    "\n",
    "num_steps = 3001\n",
    "with tf.Session(graph=graph) as session:\n",
    "    \n",
    "  saver = tf.train.Saver()\n",
    "  \n",
    "  tf.global_variables_initializer().run()  \n",
    "  print('Initialized')\n",
    "    \n",
    "  merged = tf.summary.merge_all()\n",
    "  writer = tf.summary.FileWriter('./_logs4',session.graph)  \n",
    "  \n",
    "  for step in range(num_steps):\n",
    "    offset = (step * batch_size) % (train_labels.shape[0] - batch_size)\n",
    "    \n",
    "    batch_data = train_dataset[offset:(offset + batch_size), :]\n",
    "    batch_labels = train_labels[offset:(offset + batch_size), :]\n",
    "    \n",
    "    feed_dict = {tf_train_dataset : batch_data, tf_train_labels : batch_labels}\n",
    "    _, l, predictions = session.run(\n",
    "      [optimizer, loss, train_prediction], feed_dict=feed_dict)\n",
    "    \n",
    "    ##summary = session.run(merged, feed_dict=feed_dict)\n",
    "    ##writer.add_summary(summary, step)\n",
    "    ##writer.flush()\n",
    "          \n",
    "    ##checkpoint_file = os.path.join('./_logs4', 'checkpoint')\n",
    "    ##saver.save(session, checkpoint_file, global_step=step) \n",
    "    \n",
    "    if (step % 500 == 0):\n",
    "      print(\"Minibatch loss at step %d: %f\" % (step, l))\n",
    "      print(\"Minibatch accuracy: %.1f%%\" % accuracy(predictions, batch_labels))\n",
    "      print(\"Validation accuracy: %.1f%%\" % accuracy(valid_prediction.eval(), valid_labels))\n",
    "      print(\"Test accuracy: %.1f%%\" % accuracy(test_prediction.eval(), test_labels))"
   ]
  },
  {
   "cell_type": "markdown",
   "metadata": {
    "collapsed": true
   },
   "source": [
    "## 3-hidden layer neural network with rectified linear units"
   ]
  },
  {
   "cell_type": "code",
   "execution_count": 16,
   "metadata": {
    "collapsed": false
   },
   "outputs": [
    {
     "name": "stdout",
     "output_type": "stream",
     "text": [
      "INFO:tensorflow:Summary name hidden1/Relu:0_mean is illegal; using hidden1/Relu_0_mean instead.\n",
      "INFO:tensorflow:Summary name hidden1/Relu:0_stddev is illegal; using hidden1/Relu_0_stddev instead.\n",
      "INFO:tensorflow:Summary name hidden1/Relu:0_max is illegal; using hidden1/Relu_0_max instead.\n",
      "INFO:tensorflow:Summary name hidden1/Relu:0_min is illegal; using hidden1/Relu_0_min instead.\n",
      "INFO:tensorflow:Summary name hidden2/Relu:0_mean is illegal; using hidden2/Relu_0_mean instead.\n",
      "INFO:tensorflow:Summary name hidden2/Relu:0_stddev is illegal; using hidden2/Relu_0_stddev instead.\n",
      "INFO:tensorflow:Summary name hidden2/Relu:0_max is illegal; using hidden2/Relu_0_max instead.\n",
      "INFO:tensorflow:Summary name hidden2/Relu:0_min is illegal; using hidden2/Relu_0_min instead.\n",
      "INFO:tensorflow:Summary name hidden3/Relu:0_mean is illegal; using hidden3/Relu_0_mean instead.\n",
      "INFO:tensorflow:Summary name hidden3/Relu:0_stddev is illegal; using hidden3/Relu_0_stddev instead.\n",
      "INFO:tensorflow:Summary name hidden3/Relu:0_max is illegal; using hidden3/Relu_0_max instead.\n",
      "INFO:tensorflow:Summary name hidden3/Relu:0_min is illegal; using hidden3/Relu_0_min instead.\n"
     ]
    }
   ],
   "source": [
    "batch_size = 128\n",
    "\n",
    "hidden_size = 1024\n",
    "\n",
    "uniMax = 0.12\n",
    "\n",
    "graph = tf.Graph()\n",
    "with graph.as_default():\n",
    "\n",
    "  # Input data. For the training data, we use a placeholder that will be fed\n",
    "  # at run time with a training minibatch.\n",
    "  tf_train_dataset = tf.placeholder(tf.float32,shape=(batch_size, image_size * image_size))\n",
    "  tf_train_labels = tf.placeholder(tf.float32, shape=(batch_size, num_labels))\n",
    "  tf_valid_dataset = tf.constant(valid_dataset)\n",
    "  tf_test_dataset = tf.constant(test_dataset)\n",
    "    \n",
    " # Hidden 1\n",
    "  with tf.name_scope(\"hidden1\"):\n",
    "    weights_1 = tf.Variable(tf.random_uniform([image_size * image_size, hidden_size], minval=-uniMax, maxval=uniMax),name='weights_1')\n",
    "    biases_1 = tf.Variable(tf.random_uniform([hidden_size],minval=-uniMax, maxval=uniMax),name='biases_1')\n",
    "    hidden_1 = tf.nn.relu(tf.matmul(tf_train_dataset, weights_1) + biases_1)\n",
    "    variable_summaries(hidden_1)\n",
    "    \n",
    "  # Hidden 2\n",
    "  with tf.name_scope(\"hidden2\"):\n",
    "    weights_2 = tf.Variable(tf.random_uniform([hidden_size, hidden_size], minval=-uniMax, maxval=uniMax),name='weights_2')\n",
    "    biases_2 = tf.Variable(tf.random_uniform([hidden_size],minval=-uniMax, maxval=uniMax),name='biases_2')\n",
    "    hidden_2 = tf.nn.relu(tf.matmul(hidden_1, weights_2) + biases_2)\n",
    "    variable_summaries(hidden_2)\n",
    "    \n",
    "  # Hidden 3\n",
    "  with tf.name_scope(\"hidden3\"):\n",
    "    weights_3 = tf.Variable(tf.random_uniform([hidden_size, hidden_size], minval=-uniMax, maxval=uniMax),name='weights_3')\n",
    "    biases_3 = tf.Variable(tf.random_uniform([hidden_size],minval=-uniMax, maxval=uniMax),name='biases_3')\n",
    "    hidden_3 = tf.nn.relu(tf.matmul(hidden_2, weights_3) + biases_3)\n",
    "    variable_summaries(hidden_3)\n",
    "    \n",
    "  # Softmax \n",
    "  with tf.name_scope(\"softmax\"):\n",
    "    weights_4 = tf.Variable(tf.random_uniform([hidden_size, num_labels],minval=-uniMax, maxval=uniMax),name='weights_4')\n",
    "    biases_4 = tf.Variable(tf.random_uniform([num_labels],minval=-uniMax, maxval=uniMax),name='biases_4')\n",
    "    logits = tf.matmul(hidden_3, weights_4) + biases_4\n",
    "  \n",
    "  # \n",
    "  loss = tf.reduce_mean(tf.nn.softmax_cross_entropy_with_logits(logits, tf_train_labels))\n",
    "  tf.summary.scalar('loss', loss)\n",
    "  \n",
    "  # Optimizer.\n",
    "  global_step = tf.Variable(0)  # count the number of steps taken.\n",
    "  learning_rate = tf.train.exponential_decay(0.5, global_step, 100000, 0.96, staircase=True)\n",
    "  optimizer = tf.train.GradientDescentOptimizer(learning_rate).minimize(loss, global_step=global_step)\n",
    "  #optimizer = tf.train.GradientDescentOptimizer(0.1).minimize(loss)\n",
    "  \n",
    "  # Predictions for the training, validation, and test data.\n",
    "  train_prediction = tf.nn.softmax(logits)\n",
    "\n",
    "\n",
    "  valid_prediction = tf.nn.softmax(\n",
    "    tf.matmul(tf.nn.relu(tf.matmul(tf.nn.relu(tf.matmul(tf.nn.relu(tf.matmul(tf_valid_dataset, weights_1) + biases_1), weights_2) + biases_2),\n",
    "              weights_3)+biases_3),weights_4)+biases_4)\n",
    "  test_prediction = tf.nn.softmax(\n",
    "    tf.matmul(tf.nn.relu(tf.matmul(tf.nn.relu(tf.matmul(tf.nn.relu(tf.matmul(tf_test_dataset, weights_1) + biases_1), weights_2) + biases_2),\n",
    "              weights_3)+biases_3),weights_4)+biases_4)"
   ]
  },
  {
   "cell_type": "code",
   "execution_count": 17,
   "metadata": {
    "collapsed": false
   },
   "outputs": [
    {
     "name": "stdout",
     "output_type": "stream",
     "text": [
      "Initialized\n",
      "Minibatch loss at step 0: 5.124457\n",
      "Minibatch accuracy: 7.0%\n",
      "Validation accuracy: 10.0%\n",
      "Test accuracy: 10.0%\n",
      "Minibatch loss at step 500: nan\n",
      "Minibatch accuracy: 9.4%\n",
      "Validation accuracy: 10.0%\n",
      "Test accuracy: 10.0%\n",
      "Minibatch loss at step 1000: nan\n",
      "Minibatch accuracy: 8.6%\n",
      "Validation accuracy: 10.0%\n",
      "Test accuracy: 10.0%\n",
      "Minibatch loss at step 1500: nan\n",
      "Minibatch accuracy: 11.7%\n",
      "Validation accuracy: 10.0%\n",
      "Test accuracy: 10.0%\n",
      "Minibatch loss at step 2000: nan\n",
      "Minibatch accuracy: 6.2%\n",
      "Validation accuracy: 10.0%\n",
      "Test accuracy: 10.0%\n",
      "Minibatch loss at step 2500: nan\n",
      "Minibatch accuracy: 10.2%\n",
      "Validation accuracy: 10.0%\n",
      "Test accuracy: 10.0%\n",
      "Minibatch loss at step 3000: nan\n",
      "Minibatch accuracy: 7.8%\n",
      "Validation accuracy: 10.0%\n",
      "Test accuracy: 10.0%\n"
     ]
    }
   ],
   "source": [
    "import os.path\n",
    "\n",
    "num_steps = 3001\n",
    "with tf.Session(graph=graph) as session:\n",
    "    \n",
    "  saver = tf.train.Saver()\n",
    "  \n",
    "  tf.global_variables_initializer().run()  \n",
    "  print('Initialized')\n",
    "    \n",
    "  merged = tf.summary.merge_all()\n",
    "  writer = tf.summary.FileWriter('./_logs4',session.graph)  \n",
    "  \n",
    "  for step in range(num_steps):\n",
    "    offset = (step * batch_size) % (train_labels.shape[0] - batch_size)\n",
    "    \n",
    "    batch_data = train_dataset[offset:(offset + batch_size), :]\n",
    "    batch_labels = train_labels[offset:(offset + batch_size), :]\n",
    "    \n",
    "    feed_dict = {tf_train_dataset : batch_data, tf_train_labels : batch_labels}\n",
    "    _, l, predictions = session.run(\n",
    "      [optimizer, loss, train_prediction], feed_dict=feed_dict)\n",
    "    \n",
    "    if (step % 500 == 0):\n",
    "      print(\"Minibatch loss at step %d: %f\" % (step, l))\n",
    "      print(\"Minibatch accuracy: %.1f%%\" % accuracy(predictions, batch_labels))\n",
    "      print(\"Validation accuracy: %.1f%%\" % accuracy(valid_prediction.eval(), valid_labels))\n",
    "      print(\"Test accuracy: %.1f%%\" % accuracy(test_prediction.eval(), test_labels))\n",
    "      "
   ]
  },
  {
   "cell_type": "markdown",
   "metadata": {},
   "source": [
    "Again we have numerical problem. Epsilon = 0.12 is probably to high value. Let's use this rule: http://stats.stackexchange.com/questions/47590/what-are-good-initial-weights-in-a-neural-network"
   ]
  },
  {
   "cell_type": "code",
   "execution_count": 18,
   "metadata": {
    "collapsed": false
   },
   "outputs": [
    {
     "data": {
      "text/plain": [
       "0.03125"
      ]
     },
     "execution_count": 18,
     "metadata": {},
     "output_type": "execute_result"
    }
   ],
   "source": [
    "1/math.sqrt(1024)"
   ]
  },
  {
   "cell_type": "code",
   "execution_count": 19,
   "metadata": {
    "collapsed": false
   },
   "outputs": [
    {
     "name": "stdout",
     "output_type": "stream",
     "text": [
      "INFO:tensorflow:Summary name hidden1/Relu:0_mean is illegal; using hidden1/Relu_0_mean instead.\n",
      "INFO:tensorflow:Summary name hidden1/Relu:0_stddev is illegal; using hidden1/Relu_0_stddev instead.\n",
      "INFO:tensorflow:Summary name hidden1/Relu:0_max is illegal; using hidden1/Relu_0_max instead.\n",
      "INFO:tensorflow:Summary name hidden1/Relu:0_min is illegal; using hidden1/Relu_0_min instead.\n",
      "INFO:tensorflow:Summary name hidden2/Relu:0_mean is illegal; using hidden2/Relu_0_mean instead.\n",
      "INFO:tensorflow:Summary name hidden2/Relu:0_stddev is illegal; using hidden2/Relu_0_stddev instead.\n",
      "INFO:tensorflow:Summary name hidden2/Relu:0_max is illegal; using hidden2/Relu_0_max instead.\n",
      "INFO:tensorflow:Summary name hidden2/Relu:0_min is illegal; using hidden2/Relu_0_min instead.\n",
      "INFO:tensorflow:Summary name hidden3/Relu:0_mean is illegal; using hidden3/Relu_0_mean instead.\n",
      "INFO:tensorflow:Summary name hidden3/Relu:0_stddev is illegal; using hidden3/Relu_0_stddev instead.\n",
      "INFO:tensorflow:Summary name hidden3/Relu:0_max is illegal; using hidden3/Relu_0_max instead.\n",
      "INFO:tensorflow:Summary name hidden3/Relu:0_min is illegal; using hidden3/Relu_0_min instead.\n"
     ]
    }
   ],
   "source": [
    "batch_size = 128\n",
    "\n",
    "hidden_size = 1024\n",
    "\n",
    "uniMax = 1/math.sqrt(hidden_size)\n",
    "\n",
    "graph = tf.Graph()\n",
    "with graph.as_default():\n",
    "\n",
    "  # Input data. For the training data, we use a placeholder that will be fed\n",
    "  # at run time with a training minibatch.\n",
    "  tf_train_dataset = tf.placeholder(tf.float32,shape=(batch_size, image_size * image_size))\n",
    "  tf_train_labels = tf.placeholder(tf.float32, shape=(batch_size, num_labels))\n",
    "  tf_valid_dataset = tf.constant(valid_dataset)\n",
    "  tf_test_dataset = tf.constant(test_dataset)\n",
    "    \n",
    " # Hidden 1\n",
    "  with tf.name_scope(\"hidden1\"):\n",
    "    weights_1 = tf.Variable(tf.random_uniform([image_size * image_size, hidden_size], minval=-uniMax, maxval=uniMax),name='weights_1')\n",
    "    biases_1 = tf.Variable(tf.random_uniform([hidden_size],minval=-uniMax, maxval=uniMax),name='biases_1')\n",
    "    hidden_1 = tf.nn.relu(tf.matmul(tf_train_dataset, weights_1) + biases_1)\n",
    "    variable_summaries(hidden_1)\n",
    "    \n",
    "  # Hidden 2\n",
    "  with tf.name_scope(\"hidden2\"):\n",
    "    weights_2 = tf.Variable(tf.random_uniform([hidden_size, hidden_size], minval=-uniMax, maxval=uniMax),name='weights_2')\n",
    "    biases_2 = tf.Variable(tf.random_uniform([hidden_size],minval=-uniMax, maxval=uniMax),name='biases_2')\n",
    "    hidden_2 = tf.nn.relu(tf.matmul(hidden_1, weights_2) + biases_2)\n",
    "    variable_summaries(hidden_2)\n",
    "    \n",
    "  # Hidden 3\n",
    "  with tf.name_scope(\"hidden3\"):\n",
    "    weights_3 = tf.Variable(tf.random_uniform([hidden_size, hidden_size], minval=-uniMax, maxval=uniMax),name='weights_3')\n",
    "    biases_3 = tf.Variable(tf.random_uniform([hidden_size],minval=-uniMax, maxval=uniMax),name='biases_3')\n",
    "    hidden_3 = tf.nn.relu(tf.matmul(hidden_2, weights_3) + biases_3)\n",
    "    variable_summaries(hidden_3)\n",
    "    \n",
    "  # Softmax \n",
    "  with tf.name_scope(\"softmax\"):\n",
    "    weights_4 = tf.Variable(tf.random_uniform([hidden_size, num_labels],minval=-uniMax, maxval=uniMax),name='weights_4')\n",
    "    biases_4 = tf.Variable(tf.random_uniform([num_labels],minval=-uniMax, maxval=uniMax),name='biases_4')\n",
    "    logits = tf.matmul(hidden_3, weights_4) + biases_4\n",
    "  \n",
    "  # \n",
    "  loss = tf.reduce_mean(tf.nn.softmax_cross_entropy_with_logits(logits, tf_train_labels))\n",
    "  tf.summary.scalar('loss', loss)\n",
    "  \n",
    "  # Optimizer.\n",
    "  global_step = tf.Variable(0)  # count the number of steps taken.\n",
    "  learning_rate = tf.train.exponential_decay(0.5, global_step, 100000, 0.96, staircase=True)\n",
    "  optimizer = tf.train.GradientDescentOptimizer(learning_rate).minimize(loss, global_step=global_step)\n",
    "  #optimizer = tf.train.GradientDescentOptimizer(0.1).minimize(loss)\n",
    "  \n",
    "  # Predictions for the training, validation, and test data.\n",
    "  train_prediction = tf.nn.softmax(logits)\n",
    "\n",
    "\n",
    "  valid_prediction = tf.nn.softmax(\n",
    "    tf.matmul(tf.nn.relu(tf.matmul(tf.nn.relu(tf.matmul(tf.nn.relu(tf.matmul(tf_valid_dataset, weights_1) + biases_1), weights_2) + biases_2),\n",
    "              weights_3)+biases_3),weights_4)+biases_4)\n",
    "  test_prediction = tf.nn.softmax(\n",
    "    tf.matmul(tf.nn.relu(tf.matmul(tf.nn.relu(tf.matmul(tf.nn.relu(tf.matmul(tf_test_dataset, weights_1) + biases_1), weights_2) + biases_2),\n",
    "              weights_3)+biases_3),weights_4)+biases_4)"
   ]
  },
  {
   "cell_type": "code",
   "execution_count": 20,
   "metadata": {
    "collapsed": false
   },
   "outputs": [
    {
     "name": "stdout",
     "output_type": "stream",
     "text": [
      "Initialized\n",
      "Minibatch loss at step 0: 2.303820\n",
      "Minibatch accuracy: 8.6%\n",
      "Validation accuracy: 17.9%\n",
      "Test accuracy: 18.8%\n",
      "Minibatch loss at step 500: 0.362031\n",
      "Minibatch accuracy: 88.3%\n",
      "Validation accuracy: 85.5%\n",
      "Test accuracy: 92.0%\n",
      "Minibatch loss at step 1000: 0.478225\n",
      "Minibatch accuracy: 85.2%\n",
      "Validation accuracy: 86.7%\n",
      "Test accuracy: 93.0%\n",
      "Minibatch loss at step 1500: 0.253675\n",
      "Minibatch accuracy: 92.2%\n",
      "Validation accuracy: 88.2%\n",
      "Test accuracy: 93.8%\n",
      "Minibatch loss at step 2000: 0.246550\n",
      "Minibatch accuracy: 94.5%\n",
      "Validation accuracy: 88.6%\n",
      "Test accuracy: 94.7%\n",
      "Minibatch loss at step 2500: 0.305020\n",
      "Minibatch accuracy: 89.8%\n",
      "Validation accuracy: 88.9%\n",
      "Test accuracy: 94.6%\n",
      "Minibatch loss at step 3000: 0.335602\n",
      "Minibatch accuracy: 88.3%\n",
      "Validation accuracy: 88.9%\n",
      "Test accuracy: 95.0%\n"
     ]
    }
   ],
   "source": [
    "import os.path\n",
    "\n",
    "num_steps = 3001\n",
    "with tf.Session(graph=graph) as session:\n",
    "    \n",
    "  saver = tf.train.Saver()\n",
    "  \n",
    "  tf.global_variables_initializer().run()  \n",
    "  print('Initialized')\n",
    "    \n",
    "  merged = tf.summary.merge_all()\n",
    "  writer = tf.summary.FileWriter('./_logs4',session.graph)  \n",
    "  \n",
    "  for step in range(num_steps):\n",
    "    offset = (step * batch_size) % (train_labels.shape[0] - batch_size)\n",
    "    \n",
    "    batch_data = train_dataset[offset:(offset + batch_size), :]\n",
    "    batch_labels = train_labels[offset:(offset + batch_size), :]\n",
    "    \n",
    "    feed_dict = {tf_train_dataset : batch_data, tf_train_labels : batch_labels}\n",
    "    _, l, predictions = session.run(\n",
    "      [optimizer, loss, train_prediction], feed_dict=feed_dict)\n",
    "    \n",
    "    ##summary = session.run(merged, feed_dict=feed_dict)\n",
    "    ##writer.add_summary(summary, step)\n",
    "    ##writer.flush()\n",
    "          \n",
    "    ##checkpoint_file = os.path.join('./_logs4', 'checkpoint')\n",
    "    ##saver.save(session, checkpoint_file, global_step=step) \n",
    "    \n",
    "    if (step % 500 == 0):\n",
    "      print(\"Minibatch loss at step %d: %f\" % (step, l))\n",
    "      print(\"Minibatch accuracy: %.1f%%\" % accuracy(predictions, batch_labels))\n",
    "      print(\"Validation accuracy: %.1f%%\" % accuracy(valid_prediction.eval(), valid_labels))\n",
    "      print(\"Test accuracy: %.1f%%\" % accuracy(test_prediction.eval(), test_labels))"
   ]
  },
  {
   "cell_type": "markdown",
   "metadata": {},
   "source": [
    "# Conclusions "
   ]
  },
  {
   "cell_type": "markdown",
   "metadata": {},
   "source": [
    "In conclusion, taking ~3000 steps and using SGD \n",
    "\n",
    "* log-linear model:  \n",
    "    * Minibatch accuracy: 73.4%\n",
    "    * Validation accuracy: 78.7%\n",
    "    * Test accuracy: 86.3%\n",
    "* 1-hidden layer model:\n",
    "    * Minibatch accuracy: 84.4%\n",
    "    * Validation accuracy: 82.0%\n",
    "    * Test accuracy: 89.1%\n",
    "* __2-hidden layer model__:\n",
    "    * __Minibatch accuracy: 88.3%__\n",
    "    * __Validation accuracy: 88.8%__\n",
    "    * __Test accuracy: 94.7%__\n",
    "* 3-hidden layer model:\n",
    "    * Minibatch accuracy: 88.3%\n",
    "    * Validation accuracy: 88.9%\n",
    "    * Test accuracy: 95.0%\n",
    "    "
   ]
  },
  {
   "cell_type": "markdown",
   "metadata": {},
   "source": [
    "2-hidden layers model seems the most promising. So Let's dig inside."
   ]
  },
  {
   "cell_type": "code",
   "execution_count": 21,
   "metadata": {
    "collapsed": false
   },
   "outputs": [],
   "source": [
    "def variable_summaries(var):\n",
    "  \"\"\"Attach a lot of summaries to a Tensor (for TensorBoard visualization).\"\"\"\n",
    "  with tf.name_scope('summaries'):\n",
    "    mean = tf.reduce_mean(var)\n",
    "    tf.summary.scalar(var.name+'_mean', mean)\n",
    "    #tf.scalar_summary(var.name+'_mean', mean)\n",
    "    stddev = tf.sqrt(tf.reduce_mean(tf.square(var - mean)))\n",
    "    tf.summary.scalar(var.name+'_stddev', stddev)\n",
    "    #tf.scalar_summary(var.name+'_stddev', stddev)\n",
    "    tf.summary.scalar(var.name+'_max', tf.reduce_max(var))\n",
    "    #tf.scalar_summary(var.name+'_max', tf.reduce_max(var))\n",
    "    tf.summary.scalar(var.name+'_min', tf.reduce_min(var))\n",
    "    #tf.histogram_summary( var.name, var)\n",
    "    tf.summary.histogram( var.name, var)"
   ]
  },
  {
   "cell_type": "code",
   "execution_count": 22,
   "metadata": {
    "collapsed": false
   },
   "outputs": [
    {
     "name": "stdout",
     "output_type": "stream",
     "text": [
      "INFO:tensorflow:Summary name hidden1/Relu:0_mean is illegal; using hidden1/Relu_0_mean instead.\n",
      "INFO:tensorflow:Summary name hidden1/Relu:0_stddev is illegal; using hidden1/Relu_0_stddev instead.\n",
      "INFO:tensorflow:Summary name hidden1/Relu:0_max is illegal; using hidden1/Relu_0_max instead.\n",
      "INFO:tensorflow:Summary name hidden1/Relu:0_min is illegal; using hidden1/Relu_0_min instead.\n",
      "INFO:tensorflow:Summary name hidden1/Relu:0 is illegal; using hidden1/Relu_0 instead.\n",
      "INFO:tensorflow:Summary name hidden2/Relu:0_mean is illegal; using hidden2/Relu_0_mean instead.\n",
      "INFO:tensorflow:Summary name hidden2/Relu:0_stddev is illegal; using hidden2/Relu_0_stddev instead.\n",
      "INFO:tensorflow:Summary name hidden2/Relu:0_max is illegal; using hidden2/Relu_0_max instead.\n",
      "INFO:tensorflow:Summary name hidden2/Relu:0_min is illegal; using hidden2/Relu_0_min instead.\n",
      "INFO:tensorflow:Summary name hidden2/Relu:0 is illegal; using hidden2/Relu_0 instead.\n"
     ]
    }
   ],
   "source": [
    "import math\n",
    "batch_size = 128\n",
    "\n",
    "hidden_size = 1024\n",
    "\n",
    "uniMax = 1/math.sqrt(hidden_size)\n",
    "\n",
    "graph = tf.Graph()\n",
    "with graph.as_default():\n",
    "\n",
    "  # Input data. For the training data, we use a placeholder that will be fed\n",
    "  # at run time with a training minibatch.\n",
    "  tf_train_dataset = tf.placeholder(tf.float32,shape=(batch_size, image_size * image_size))\n",
    "  tf_train_labels = tf.placeholder(tf.float32, shape=(batch_size, num_labels))\n",
    "    \n",
    "  tf_valid_dataset = tf.constant(valid_dataset)\n",
    "  tf_valid_labels = tf.constant(valid_labels)\n",
    "    \n",
    "  tf_test_dataset = tf.constant(test_dataset)\n",
    "  tf_test_labels = tf.constant(test_labels)\n",
    "    \n",
    "  # Hidden 1\n",
    "  with tf.name_scope(\"hidden1\"):\n",
    "    weights_1 = tf.Variable(tf.random_uniform([image_size * image_size, hidden_size], minval=-uniMax, maxval=uniMax),\n",
    "                            name='weights_1')\n",
    "    biases_1 = tf.Variable(tf.random_uniform([hidden_size],minval=-uniMax, maxval=uniMax),name='biases_1')\n",
    "    hidden_1 = tf.nn.relu(tf.matmul(tf_train_dataset, weights_1) + biases_1)\n",
    "    variable_summaries(hidden_1)\n",
    "    \n",
    "  # Hidden 2\n",
    "  with tf.name_scope(\"hidden2\"):\n",
    "    weights_2 = tf.Variable(tf.random_uniform([hidden_size, hidden_size], minval=-uniMax, maxval=uniMax),name='weights_2')\n",
    "    biases_2 = tf.Variable(tf.random_uniform([hidden_size],minval=-uniMax, maxval=uniMax),name='biases_2')\n",
    "    hidden_2 = tf.nn.relu(tf.matmul(hidden_1, weights_2) + biases_2)\n",
    "    variable_summaries(hidden_2)\n",
    "    \n",
    "  # Softmax \n",
    "  with tf.name_scope(\"softmax\"):\n",
    "    weights_3 = tf.Variable(tf.random_uniform([hidden_size, num_labels],minval=-uniMax, maxval=uniMax),name='weights_3')\n",
    "    biases_3 = tf.Variable(tf.random_uniform([num_labels],minval=-uniMax, maxval=uniMax),name='biases_3')\n",
    "    logits = tf.matmul(hidden_2, weights_3) + biases_3\n",
    "  \n",
    "  # \n",
    "  loss = tf.reduce_mean(tf.nn.softmax_cross_entropy_with_logits(logits, tf_train_labels))\n",
    "  tf.summary.scalar('loss', loss)\n",
    "  \n",
    "  # Optimizer.\n",
    "  global_step = tf.Variable(0)  # count the number of steps taken.\n",
    "  learning_rate = tf.train.exponential_decay(0.5, global_step, 100000, 0.96, staircase=True)\n",
    "  optimizer = tf.train.GradientDescentOptimizer(learning_rate).minimize(loss, global_step=global_step)\n",
    "  #optimizer = tf.train.GradientDescentOptimizer(0.1).minimize(loss)\n",
    "  \n",
    "  # Predictions for the training, validation, and test data.\n",
    "  train_prediction = tf.nn.softmax(logits)\n",
    "\n",
    "\n",
    "  valid_prediction = tf.nn.softmax(\n",
    "    tf.matmul(tf.nn.relu(tf.matmul(tf.nn.relu(tf.matmul(tf_valid_dataset, weights_1) + biases_1), weights_2) + biases_2),\n",
    "              weights_3)+biases_3)\n",
    "  test_prediction = tf.nn.softmax(\n",
    "    tf.matmul(tf.nn.relu(tf.matmul(tf.nn.relu(tf.matmul(tf_test_dataset, weights_1) + biases_1), weights_2) + biases_2),\n",
    "              weights_3)+biases_3)\n",
    "\n",
    "  # accuracy-valid     \n",
    "  with tf.name_scope('accuracy_valid'):\n",
    "    with tf.name_scope('correct_prediction_valid'):\n",
    "      correct_prediction = tf.equal(tf.argmax(valid_prediction, 1), tf.argmax(tf_valid_labels, 1))\n",
    "      accuracy_valid = tf.reduce_mean(tf.cast(correct_prediction, tf.float32))\n",
    "      tf.summary.scalar('accuracy_val', accuracy_valid)\n",
    "        \n",
    "  # accuracy-test    \n",
    "  with tf.name_scope('accuracy_testing'):\n",
    "    with tf.name_scope('correct_prediction_test'):\n",
    "      correct_prediction = tf.equal(tf.argmax(test_prediction, 1), tf.argmax(tf_test_labels, 1))\n",
    "      accuracy_test = tf.reduce_mean(tf.cast(correct_prediction, tf.float32))\n",
    "      tf.summary.scalar('accuracy_test', accuracy_test)"
   ]
  },
  {
   "cell_type": "code",
   "execution_count": 24,
   "metadata": {
    "collapsed": false
   },
   "outputs": [
    {
     "name": "stdout",
     "output_type": "stream",
     "text": [
      "Initialized\n",
      "Minibatch loss at step 0: 2.303510\n",
      "Minibatch accuracy: 12.5%\n",
      "Validation accuracy: 26.3%\n",
      "Test accuracy: 28.7%\n",
      "Minibatch loss at step 500: 0.349318\n",
      "Minibatch accuracy: 89.8%\n",
      "Validation accuracy: 85.6%\n",
      "Test accuracy: 92.1%\n",
      "Minibatch loss at step 1000: 0.481698\n",
      "Minibatch accuracy: 84.4%\n",
      "Validation accuracy: 86.8%\n",
      "Test accuracy: 93.1%\n",
      "Minibatch loss at step 1500: 0.238356\n",
      "Minibatch accuracy: 92.2%\n",
      "Validation accuracy: 88.2%\n",
      "Test accuracy: 94.1%\n",
      "Minibatch loss at step 2000: 0.240639\n",
      "Minibatch accuracy: 93.8%\n",
      "Validation accuracy: 88.6%\n",
      "Test accuracy: 94.6%\n",
      "Minibatch loss at step 2500: 0.306431\n",
      "Minibatch accuracy: 89.8%\n",
      "Validation accuracy: 89.0%\n",
      "Test accuracy: 94.9%\n",
      "Minibatch loss at step 3000: 0.321704\n",
      "Minibatch accuracy: 87.5%\n",
      "Validation accuracy: 89.0%\n",
      "Test accuracy: 94.9%\n"
     ]
    }
   ],
   "source": [
    "import os.path\n",
    "\n",
    "num_steps = 3001\n",
    "with tf.Session(graph=graph) as session:\n",
    "    \n",
    "  saver = tf.train.Saver()\n",
    "  \n",
    "  tf.global_variables_initializer().run()  \n",
    "  print('Initialized')\n",
    "    \n",
    "  merged = tf.summary.merge_all()\n",
    "  writer = tf.summary.FileWriter('./_logs4',session.graph)  \n",
    "  \n",
    "  for step in range(num_steps):\n",
    "    offset = (step * batch_size) % (train_labels.shape[0] - batch_size)\n",
    "    \n",
    "    batch_data = train_dataset[offset:(offset + batch_size), :]\n",
    "    batch_labels = train_labels[offset:(offset + batch_size), :]\n",
    "    \n",
    "    feed_dict = {tf_train_dataset : batch_data, tf_train_labels : batch_labels}\n",
    "    _, l, predictions = session.run(\n",
    "      [optimizer, loss, train_prediction], feed_dict=feed_dict) \n",
    "    \n",
    "    if (step % 500 == 0):\n",
    "      summary = session.run(merged, feed_dict=feed_dict)\n",
    "      writer.add_summary(summary, step)\n",
    "      writer.flush()\n",
    "          \n",
    "      checkpoint_file = os.path.join('./_logs4', 'checkpoint')\n",
    "      saver.save(session, checkpoint_file, global_step=step)\n",
    "    \n",
    "      print(\"Minibatch loss at step %d: %f\" % (step, l))\n",
    "      print(\"Minibatch accuracy: %.1f%%\" % accuracy(predictions, batch_labels))\n",
    "      print(\"Validation accuracy: %.1f%%\" % accuracy(valid_prediction.eval(), valid_labels))\n",
    "      print(\"Test accuracy: %.1f%%\" % accuracy(test_prediction.eval(), test_labels))"
   ]
  },
  {
   "cell_type": "markdown",
   "metadata": {},
   "source": [
    "### Main Graph"
   ]
  },
  {
   "cell_type": "markdown",
   "metadata": {},
   "source": [
    "<img src=\"images/2hiddengraph.JPG\"/>"
   ]
  },
  {
   "cell_type": "markdown",
   "metadata": {},
   "source": [
    "### Loss function "
   ]
  },
  {
   "cell_type": "markdown",
   "metadata": {},
   "source": [
    "<img src=\"images/2hiddenloss.JPG\"/>"
   ]
  },
  {
   "cell_type": "markdown",
   "metadata": {},
   "source": [
    "### Accuracy on validation set  "
   ]
  },
  {
   "cell_type": "markdown",
   "metadata": {},
   "source": [
    "<img src=\"images/2hiddenaccuracyval.JPG\"/>"
   ]
  },
  {
   "cell_type": "markdown",
   "metadata": {},
   "source": [
    "### Accuracy on test set "
   ]
  },
  {
   "cell_type": "markdown",
   "metadata": {},
   "source": [
    "<img src=\"images/2hiddenaccuracytest.JPG\"/>"
   ]
  }
 ],
 "metadata": {
  "kernelspec": {
   "display_name": "Python 3",
   "language": "python",
   "name": "python3"
  },
  "language_info": {
   "codemirror_mode": {
    "name": "ipython",
    "version": 3
   },
   "file_extension": ".py",
   "mimetype": "text/x-python",
   "name": "python",
   "nbconvert_exporter": "python",
   "pygments_lexer": "ipython3",
   "version": "3.5.2"
  }
 },
 "nbformat": 4,
 "nbformat_minor": 0
}
