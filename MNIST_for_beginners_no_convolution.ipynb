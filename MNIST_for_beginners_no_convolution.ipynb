{
 "cells": [
  {
   "cell_type": "markdown",
   "metadata": {},
   "source": [
    "# MNIST For ML Beginners\n"
   ]
  },
  {
   "cell_type": "markdown",
   "metadata": {},
   "source": [
    "A very simple MNIST classifier. See extensive documentation at http://tensorflow.org/tutorials/mnist/beginners/index.md"
   ]
  },
  {
   "cell_type": "code",
   "execution_count": 1,
   "metadata": {
    "collapsed": true
   },
   "outputs": [],
   "source": [
    "from __future__ import absolute_import\n",
    "from __future__ import division\n",
    "from __future__ import print_function\n",
    "\n",
    "import os.path\n",
    "\n",
    "import argparse\n",
    "import sys\n",
    "\n",
    "from tensorflow.examples.tutorials.mnist import input_data\n",
    "\n",
    "import tensorflow as tf\n",
    "\n",
    "flags = tf.app.flags\n",
    "FLAGS = flags.FLAGS\n",
    "flags.DEFINE_string('data_dir', './', 'Directory to put the training data.')"
   ]
  },
  {
   "cell_type": "code",
   "execution_count": 1,
   "metadata": {
    "collapsed": true
   },
   "outputs": [],
   "source": [
    "def main(_):\n",
    "  # Import data                                                                                                                                                  \n",
    "  mnist = input_data.read_data_sets(FLAGS.data_dir, one_hot=True)\n",
    "\n",
    "  # Create the model                                                                                                                                             \n",
    "  x = tf.placeholder(tf.float32, [None, 784])\n",
    "  W = tf.Variable(tf.zeros([784, 10]))\n",
    "  b = tf.Variable(tf.zeros([10]))\n",
    "  y = tf.matmul(x, W) + b\n",
    "\n",
    "  # Define loss and optimizer                                                                                                                                    \n",
    "  y_ = tf.placeholder(tf.float32, [None, 10])\n",
    "                                                                                               \n",
    "  cross_entropy = tf.reduce_mean(tf.nn.softmax_cross_entropy_with_logits(y, y_))\n",
    "  train_step = tf.train.GradientDescentOptimizer(0.5).minimize(cross_entropy)\n",
    "\n",
    "  #sess = tf.InteractiveSession()\n",
    "  with tf.Session() as sess:\n",
    "      #tf.global_variables_initializer().run()                                                                                                                       \n",
    "      init = tf.initialize_all_variables()\n",
    "      sess.run(init)\n",
    "      # Train                                                                                                                                                        \n",
    "      for _ in range(1000):\n",
    "        batch_xs, batch_ys = mnist.train.next_batch(100)\n",
    "        sess.run(train_step, feed_dict={x: batch_xs, y_: batch_ys})\n",
    "\n",
    "      # Test trained model                                                                                                                                           \n",
    "      correct_prediction = tf.equal(tf.argmax(y, 1), tf.argmax(y_, 1))\n",
    "      accuracy = tf.reduce_mean(tf.cast(correct_prediction, tf.float32))\n",
    "      print(\">>> Test Accuracy::\"+str(sess.run(accuracy, feed_dict={x: mnist.test.images, y_: mnist.test.labels})))\n",
    "\n"
   ]
  },
  {
   "cell_type": "code",
   "execution_count": 3,
   "metadata": {
    "collapsed": false
   },
   "outputs": [
    {
     "name": "stdout",
     "output_type": "stream",
     "text": [
      "Extracting ./train-images-idx3-ubyte.gz\n",
      "Extracting ./train-labels-idx1-ubyte.gz\n",
      "Extracting ./t10k-images-idx3-ubyte.gz\n",
      "Extracting ./t10k-labels-idx1-ubyte.gz\n",
      ">>> Test Accuracy::0.9197\n"
     ]
    }
   ],
   "source": [
    "main(_)"
   ]
  },
  {
   "cell_type": "markdown",
   "metadata": {},
   "source": [
    "## TensorBoard: Visualizing Learning"
   ]
  },
  {
   "cell_type": "code",
   "execution_count": 4,
   "metadata": {
    "collapsed": false
   },
   "outputs": [],
   "source": [
    "def variable_summaries(var):\n",
    "  \"\"\"Attach a lot of summaries to a Tensor (for TensorBoard visualization).\"\"\"\n",
    "  with tf.name_scope('summaries'):\n",
    "    mean = tf.reduce_mean(var)\n",
    "    #tf.summary.scalar('mean', mean)\n",
    "    tf.scalar_summary(var.name+'_mean', mean)\n",
    "    with tf.name_scope('stddev'):\n",
    "      stddev = tf.sqrt(tf.reduce_mean(tf.square(var - mean)))\n",
    "    #tf.summary.scalar('stddev', stddev)\n",
    "    tf.scalar_summary(var.name+'_stddev', stddev)\n",
    "    #tf.summary.scalar('max', tf.reduce_max(var))\n",
    "    tf.scalar_summary(var.name+'_max', tf.reduce_max(var))\n",
    "    #tf.summary.scalar('min', tf.reduce_min(var))\n",
    "    tf.scalar_summary(var.name+'_min', tf.reduce_min(var))\n",
    "    \n",
    "\n",
    "def main2(_):\n",
    "  # Import data                                                                                                                                                  \n",
    "  mnist = input_data.read_data_sets(FLAGS.data_dir, one_hot=True)\n",
    "\n",
    "  # Create the model      \n",
    "  x = tf.placeholder(tf.float32, [None, 784])\n",
    "    \n",
    "  with tf.name_scope('W'):\n",
    "    W = tf.Variable(tf.zeros([784, 10]))\n",
    "    variable_summaries(W)\n",
    "    \n",
    "  with tf.name_scope('b'):\n",
    "    b = tf.Variable(tf.zeros([10]))\n",
    "    variable_summaries(b)\n",
    "    \n",
    "  with tf.name_scope('y'):\n",
    "    y = tf.matmul(x, W) + b\n",
    "    variable_summaries(y)\n",
    "\n",
    "  # Define loss and optimizer    \n",
    "  y_ = tf.placeholder(tf.float32, [None, 10])           \n",
    "\n",
    "  with tf.name_scope('cross_entropy'):\n",
    "    cross_entropy = tf.reduce_mean(tf.nn.softmax_cross_entropy_with_logits(y, y_))\n",
    "  #tf.summary.scalar('cross_entropy', cross_entropy)\n",
    "  tf.scalar_summary('cross_entropy', cross_entropy)\n",
    "    \n",
    "  with tf.name_scope('train_step'):\n",
    "    train_step = tf.train.GradientDescentOptimizer(0.5).minimize(cross_entropy)\n",
    "    \n",
    "  # Test trained model     \n",
    "  with tf.name_scope('accuracy'):\n",
    "    with tf.name_scope('correct_prediction'):\n",
    "      correct_prediction = tf.equal(tf.argmax(y, 1), tf.argmax(y_, 1))\n",
    "\n",
    "    with tf.name_scope('accuracy'):\n",
    "      accuracy = tf.reduce_mean(tf.cast(correct_prediction, tf.float32))\n",
    "      #tf.summary.scalar('accuracy', accuracy)\n",
    "  tf.scalar_summary('accuracy', accuracy)\n",
    "        \n",
    "  #######\n",
    "  init = tf.initialize_all_variables()\n",
    "\n",
    "  # Create a saver for writing training checkpoints.\n",
    "  saver = tf.train.Saver()\n",
    "\n",
    "  #sess = tf.InteractiveSession()\n",
    "  with tf.Session() as sess:\n",
    "      #tf.global_variables_initializer().run()       \n",
    "\n",
    "      # Merge all the summaries and write them out to ./logs (by default)\n",
    "      merged = tf.merge_all_summaries()\n",
    "      writer = tf.train.SummaryWriter(FLAGS.data_dir + '/_logs',sess.graph)\n",
    "\n",
    "      sess.run(init)\n",
    "\n",
    "      # Train          \n",
    "      iterations = 1000\n",
    "      for i in range(iterations):\n",
    "        batch_xs, batch_ys = mnist.train.next_batch(100)\n",
    "        sess.run(train_step, feed_dict={x: batch_xs, y_: batch_ys})\n",
    "\n",
    "        if i % 100 == 0 or i == (iterations-1):\n",
    "          summary = sess.run(merged, feed_dict={x: batch_xs, y_: batch_ys})\n",
    "          writer.add_summary(summary, i)\n",
    "          summary, acc = sess.run([merged, accuracy], feed_dict={x: mnist.test.images,y_: mnist.test.labels})\n",
    "          writer.add_summary(summary, i)\n",
    "          writer.flush()\n",
    "          \n",
    "          checkpoint_file = os.path.join(FLAGS.data_dir + '/_logs', 'checkpoint')\n",
    "          saver.save(sess, checkpoint_file, global_step=i)\n",
    "           \n",
    "          print('>>> Test Accuracy [%s/%s]: %s' % (i,iterations,acc))"
   ]
  },
  {
   "cell_type": "code",
   "execution_count": 5,
   "metadata": {
    "collapsed": false,
    "scrolled": false
   },
   "outputs": [
    {
     "name": "stdout",
     "output_type": "stream",
     "text": [
      "Extracting ./train-images-idx3-ubyte.gz\n",
      "Extracting ./train-labels-idx1-ubyte.gz\n",
      "Extracting ./t10k-images-idx3-ubyte.gz\n",
      "Extracting ./t10k-labels-idx1-ubyte.gz\n",
      ">>> Test Accuracy [0/1000]: 0.4075\n",
      ">>> Test Accuracy [100/1000]: 0.8948\n",
      ">>> Test Accuracy [200/1000]: 0.9031\n",
      ">>> Test Accuracy [300/1000]: 0.9074\n",
      ">>> Test Accuracy [400/1000]: 0.9037\n",
      ">>> Test Accuracy [500/1000]: 0.9125\n",
      ">>> Test Accuracy [600/1000]: 0.9135\n",
      ">>> Test Accuracy [700/1000]: 0.918\n",
      ">>> Test Accuracy [800/1000]: 0.9152\n",
      ">>> Test Accuracy [900/1000]: 0.9188\n",
      ">>> Test Accuracy [999/1000]: 0.9193\n"
     ]
    }
   ],
   "source": [
    "main2(_)"
   ]
  },
  {
   "cell_type": "markdown",
   "metadata": {},
   "source": [
    "To run TensorBoard, use the following command (alternatively python -m tensorflow.tensorboard)\n",
    "\n",
    ">tensorboard --logdir=_logs\n"
   ]
  },
  {
   "cell_type": "markdown",
   "metadata": {},
   "source": [
    "### Cross Entropy on training set by step  "
   ]
  },
  {
   "cell_type": "markdown",
   "metadata": {},
   "source": [
    "<img src =\"images/cross_entropy_train.png\" width=\"85%\">"
   ]
  },
  {
   "cell_type": "markdown",
   "metadata": {},
   "source": [
    "### Accuracy on test set by step (learning curve)"
   ]
  },
  {
   "cell_type": "markdown",
   "metadata": {},
   "source": [
    "<img src =\"images/accuracy_test_set.png\" width=\"85%\">"
   ]
  },
  {
   "cell_type": "markdown",
   "metadata": {},
   "source": [
    "### Computation Graph"
   ]
  },
  {
   "cell_type": "markdown",
   "metadata": {},
   "source": [
    "<img src =\"images/mnist_1_graph.png\" width=\"85%\">"
   ]
  }
 ],
 "metadata": {
  "anaconda-cloud": {},
  "kernelspec": {
   "display_name": "Python [default]",
   "language": "python",
   "name": "python3"
  },
  "language_info": {
   "codemirror_mode": {
    "name": "ipython",
    "version": 3
   },
   "file_extension": ".py",
   "mimetype": "text/x-python",
   "name": "python",
   "nbconvert_exporter": "python",
   "pygments_lexer": "ipython3",
   "version": "3.5.2"
  }
 },
 "nbformat": 4,
 "nbformat_minor": 2
}
